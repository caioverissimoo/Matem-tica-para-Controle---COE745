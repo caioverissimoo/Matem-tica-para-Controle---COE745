{
  "cells": [
    {
      "cell_type": "code",
      "execution_count": 2,
      "id": "5e22a9cc",
      "metadata": {
        "id": "5e22a9cc"
      },
      "outputs": [],
      "source": [
        "#using LinearAlgebra\n",
        "import numpy as np\n",
        "from scipy.linalg import null_space"
      ]
    },
    {
      "cell_type": "markdown",
      "id": "146cb6d2",
      "metadata": {
        "id": "146cb6d2"
      },
      "source": [
        "## Exercícios da aula 2\n",
        "### 1. Mostre que o espaço nulo de $AB$ contém o espaço nulo de $B$."
      ]
    },
    {
      "cell_type": "markdown",
      "source": [
        "Seja $\\vec{x}$ uma solução para $B\\vec{x} = 0$, é possível afirmar que $AB\\vec{x} = A(B\\vec{x}) = A  \\vec{0} = 0$"
      ],
      "metadata": {
        "id": "oSx8UqtG-F3R"
      },
      "id": "oSx8UqtG-F3R"
    },
    {
      "cell_type": "markdown",
      "id": "51e43af8",
      "metadata": {
        "id": "51e43af8"
      },
      "source": [
        "### 2. Qual a relação entre o espaço nulo de $C$ e os espaços nulos de $A$ e $B$, se $C = \\begin{bmatrix} A\\\\ B \\end{bmatrix}$?"
      ]
    },
    {
      "cell_type": "markdown",
      "source": [
        "$dim \\space {\\mathcal N}(C)  \\leq  dim \\space {\\mathcal N}(A), dim \\space {\\mathcal N}(B)$\n",
        "\n",
        "\n"
      ],
      "metadata": {
        "id": "_yJtIyHY2est"
      },
      "id": "_yJtIyHY2est"
    },
    {
      "cell_type": "markdown",
      "id": "5805368b",
      "metadata": {
        "id": "5805368b"
      },
      "source": [
        "### 3. Mostre que ${\\mathcal N}(A^T A) = {\\mathcal N}(A)$."
      ]
    },
    {
      "cell_type": "markdown",
      "source": [
        "Seja $\\vec{x}$ pertencente a ${\\mathcal N}(A)$:\n",
        "\n",
        "$A\\vec{x}=0 \\space ; A^TA\\vec{x} = 0$  - conclui-se que o espaço nulo de $A$ está contido no espaço nulo de $A^TA$\n",
        "\n",
        "Seja $\\vec{x}$ pertencente a ${\\mathcal N}(A^TA)$:\n",
        "\n",
        "$A^TA\\vec{x} = 0 \\space ; \\vec{x^T}A^TA\\vec{x} = 0 → (A\\vec{x})^T(A\\vec{x}) = 0$\n",
        "\n",
        "Tomando dessa última expressão $Ax =y$ temos $y^Ty=0$ que só é possivel quando $y=0$ - logo o espaço nulo de $A^TA$ está contido no espaço nulo de $A$.\n",
        "Para que ${\\mathcal N}(A^TA) \\subset {\\mathcal N}(A)$ e ${\\mathcal N}(A) \\subset {\\mathcal N}(A^TA)$, $\\space {\\mathcal N}(A^TA) = {\\mathcal N}(A)$"
      ],
      "metadata": {
        "id": "k5ky1cMUPVzb"
      },
      "id": "k5ky1cMUPVzb"
    },
    {
      "cell_type": "markdown",
      "id": "fb7addf0",
      "metadata": {
        "id": "fb7addf0"
      },
      "source": [
        "### 4. Se espaço coluna de $A$ = espaço linha de $A$, e ${\\mathcal N}(A) = {\\mathcal N}(A^T)$, podemos concluir que $A$ é simétrica? Explique sua resposta."
      ]
    },
    {
      "cell_type": "markdown",
      "source": [
        "Não, porque sendo $A$ uma matriz $n\\space x\\space n$, de posto completo, o espaço coluna de $A = $ espaço linha de $A = $ ${\\mathcal R}^n$ e ${\\mathcal N}(A) = {\\mathcal N}(A^T) = 0$ e existem matrizes que cumprem essas condições e não são simétricas.\n",
        "\n",
        "Exemplo: $\\begin{bmatrix} 1 & 2 & 1 \\\\ 1 & 1 & 1 \\\\ 3 & 4 & 2\\end{bmatrix}$"
      ],
      "metadata": {
        "id": "AZE5JzXZ3pVY"
      },
      "id": "AZE5JzXZ3pVY"
    },
    {
      "cell_type": "markdown",
      "id": "04f6f2c2",
      "metadata": {
        "id": "04f6f2c2"
      },
      "source": [
        "### 5. Se ${\\mathcal N}(A) = \\{{\\bf{0}}\\}$, quais vetores pertencem ao espaço nulo  de $B = [A \\;\\; A \\;\\; A]$?"
      ]
    },
    {
      "cell_type": "markdown",
      "source": [
        "Adotando as dimensões adequadas (cada elemento representa n vetores coluna), são necessários vetores que gerem combinações lineares de A:\n",
        "$span( \\begin{bmatrix} 1\\\\0\\\\-1 \\end{bmatrix}, \\begin{bmatrix} 0\\\\1\\\\-1 \\end{bmatrix})$"
      ],
      "metadata": {
        "id": "ioFl5Kck9j8R"
      },
      "id": "ioFl5Kck9j8R"
    },
    {
      "cell_type": "markdown",
      "source": [],
      "metadata": {
        "id": "VTG7lG4Z81qd"
      },
      "id": "VTG7lG4Z81qd"
    },
    {
      "cell_type": "markdown",
      "id": "79f5f740",
      "metadata": {
        "id": "79f5f740"
      },
      "source": [
        "### 6. Considere o grafo obtido da seguinte maneira: os quatro cantos de um quadrado, mais o ponto central são os nós, conectados entre si (as arestas), gerando um grafo com cinco nós e oito arestas. Escreva a *matriz de incidência* $A$ desse grafo, calcule o posto de $A$ e encontre um vetor $x \\in {\\mathcal N}(A)$ e quatro vetores linearmente independentes $y_i \\in {\\mathcal N}(A^T)$, $i = 1, \\ldots , 4$."
      ]
    },
    {
      "cell_type": "markdown",
      "source": [
        "$A = \\begin{bmatrix} -1 & 1 & 0 & 0 & 0\\\\ 0 & -1 & 1 & 0 & 0\\\\ 0& 0 & -1 & 1 & 0 \\\\ 1 & 0 & 0 & -1 & 0\\\\ -1 & 0 & 0 & 0 & 1 \\\\ 0 & -1 & 0 & 0 & 1 \\\\ 0 & 0 & 1 & 0 & -1 \\\\ 0 & 0 & 0 & 1 & -1 \\end{bmatrix}$\n",
        "\n",
        "$x \\in {\\mathcal N}(A)$: $x = \\begin{bmatrix} 1\\\\1\\\\1\\\\1\\\\1 \\end{bmatrix}$"
      ],
      "metadata": {
        "id": "vzqYhySgV9ym"
      },
      "id": "vzqYhySgV9ym"
    },
    {
      "cell_type": "code",
      "source": [
        "# Define your matrix A\n",
        "A = np.array([[-1, 0, 0, 1, -1, 0, 0, 0],\n",
        "              [1, -1, 0, 0, 0, -1, 0, 0],\n",
        "              [0, 1, -1, 0, 0, 0, 1, 0],\n",
        "              [0, 0, 1, -1, 0, 0, 0, 1],\n",
        "              [0, 0, 0, 0, 1, 1, -1, -1]])\n",
        "\n",
        "# Find the null space of A\n",
        "null_space_A = null_space(A)\n",
        "\n",
        "# Get four linearly independent solutions from the null space\n",
        "four_solutions = null_space_A[:, :4]\n",
        "\n",
        "# Print the solutions\n",
        "print(\"Four Linearly Independent Solutions of Ax = 0:\")\n",
        "print(four_solutions)\n",
        "#As 4 soluções distintas são as colunas da matriz exibida ao rodar o código"
      ],
      "metadata": {
        "colab": {
          "base_uri": "https://localhost:8080/"
        },
        "id": "JFdUBzrxen1W",
        "outputId": "291a9e2d-d5e3-4d31-b493-991a28b1b6e4"
      },
      "id": "JFdUBzrxen1W",
      "execution_count": 8,
      "outputs": [
        {
          "output_type": "stream",
          "name": "stdout",
          "text": [
            "Four Linearly Independent Solutions of Ax = 0:\n",
            "[[-0.64025704  0.20508344  0.09861651  0.07037867]\n",
            " [-0.48960833 -0.41016687 -0.19723301 -0.14075734]\n",
            " [-0.26363525 -0.2718246   0.45192744 -0.34501609]\n",
            " [-0.30129743 -0.28281102  0.38785794  0.38140617]\n",
            " [ 0.33895961 -0.48789446  0.28924144  0.3110275 ]\n",
            " [-0.15064872  0.61525031  0.29584952  0.21113602]\n",
            " [ 0.22597307  0.13834227  0.64916045 -0.20425874]\n",
            " [-0.03766218 -0.01098642 -0.06406949  0.72642225]]\n"
          ]
        }
      ]
    },
    {
      "cell_type": "markdown",
      "id": "e0756cf7",
      "metadata": {
        "id": "e0756cf7"
      },
      "source": [
        "### 7. Sejam $S,T$ subespaços de ${\\mathbb R}^{10}$, com $\\dim (S) = 2, \\dim(T) = 7$. Quais as dimensões possíveis de (i) $S \\cap T$, (ii) $S + T$ (soma direta dos subespaçõs), (iii) $S^{\\perp} := \\{ v \\in {\\mathbb R}^{10}: v^Ts = 0, \\forall s \\in S\\}$. (complemento ortogonal de $S$)?\n",
        "\n",
        "#### Definição: A *soma direta de dois subespaços* $S,T$ de um espaço vetorial é definida como $\\{ s + t: s \\in S, t \\in T\\}$."
      ]
    },
    {
      "cell_type": "code",
      "execution_count": null,
      "id": "87988040",
      "metadata": {
        "id": "87988040"
      },
      "outputs": [],
      "source": []
    },
    {
      "cell_type": "markdown",
      "source": [
        "i) 0, 1 e 2\n",
        "\n",
        "ii) 0 até 9\n",
        "\n",
        "iii)0 até 8"
      ],
      "metadata": {
        "id": "Q_RKLcj1_dtr"
      },
      "id": "Q_RKLcj1_dtr"
    }
  ],
  "metadata": {
    "kernelspec": {
      "display_name": "Julia 1.10.0",
      "language": "julia",
      "name": "julia-1.10"
    },
    "language_info": {
      "file_extension": ".jl",
      "mimetype": "application/julia",
      "name": "julia",
      "version": "1.10.0"
    },
    "colab": {
      "provenance": [],
      "collapsed_sections": [
        "5805368b",
        "fb7addf0",
        "04f6f2c2"
      ]
    }
  },
  "nbformat": 4,
  "nbformat_minor": 5
}