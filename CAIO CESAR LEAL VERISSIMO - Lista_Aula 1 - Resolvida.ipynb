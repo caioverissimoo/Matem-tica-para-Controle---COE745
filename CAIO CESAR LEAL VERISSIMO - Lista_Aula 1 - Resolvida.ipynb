{
 "cells": [
  {
   "cell_type": "markdown",
   "id": "146cb6d2",
   "metadata": {},
   "source": [
    "## Exercícios da aula 1\n",
    "### 1. Dê um exemplo de uma combinação de 3 vetores não nulos em ${\\mathbb{R}}^4$ que resulta no vetor ${\\bf{0}}\\in {\\mathbb R}^4$."
   ]
  },
  {
   "cell_type": "markdown",
   "id": "ce4764f8",
   "metadata": {},
   "source": [
    "$\\begin{bmatrix}1 \\\\ 3 \\\\ 5 \\\\ 2 \\end{bmatrix} + \\begin{bmatrix}1 \\\\ 4 \\\\ 1 \\\\ 2 \\end{bmatrix} + \\begin{bmatrix}-2 \\\\ -7 \\\\ -6 \\\\ -4 \\end{bmatrix} = \\begin{bmatrix}0 \\\\ 0 \\\\ 0 \\\\ 0 \\end{bmatrix}$"
   ]
  },
  {
   "cell_type": "markdown",
   "id": "51e43af8",
   "metadata": {},
   "source": [
    "### 2. Suponha que duas combinações distintas das colunas de $\\bf{A}$ resultam no vetor nulo. Verdadeiro ou falso: É possível encontrar duas soluções à equação $\\bf{Ax}= \\bf{0}$."
   ]
  },
  {
   "cell_type": "markdown",
   "id": "90b8c482",
   "metadata": {},
   "source": [
    "Falso. Existem infinitas soluções para a equação $Ax = 0$"
   ]
  },
  {
   "cell_type": "markdown",
   "id": "5805368b",
   "metadata": {},
   "source": [
    "### 3. Dada a informação que os vetores ${\\bf{a}_i} \\in {\\mathbb{R}}^m, i = 1, \\ldots, n$, e ainda que $\\sum_{i=1}^n c_i {\\bf{a}_i} = \\bf{0}$, escreva essa informação (a) em termos matriz-vetor, sendo $\\bf{A}$ a matriz com colunas $\\bf{a}_i$ e $\\bf{c}$ o vetor coluna com componentes $c_i$; (b) em termos escalares, dado que ${\\bf{a}_j} = (a_{1j},a_{2j}, \\ldots, a_{mj})$ [vetor coluna]."
   ]
  },
  {
   "cell_type": "markdown",
   "id": "1cddb8e7",
   "metadata": {},
   "source": [
    "a) $\\begin{bmatrix} \\vec{a_1} & \\vec{a_2} & ... & \\vec{a_n} \\end{bmatrix} \\begin{bmatrix} c_1 \\\\ c_2 \\\\ ... \\\\ c_n \\end{bmatrix} = \\vec{0}$\n",
    "\n",
    "b) $c_1a_1 + c_2a_2 + c_3a_3 + ... + c_na_n = 0$"
   ]
  },
  {
   "cell_type": "markdown",
   "id": "7265dbe7",
   "metadata": {},
   "source": [
    "### 4. Seja $A = \\begin{bmatrix} 1 & 1 & 1\\\\1 &1 & 1\\\\1 & 1 & 1\\end{bmatrix} = {\\bf{ones}}(3,3)$. Encontre ${\\bf{x}},{\\bf{y}}$, ${\\bf{x}}\\neq {\\bf{y}}$, tal que (t.q.) ${\\bf{Ax}} = {\\bf{Ay}} = 0$. Existe $\\bf{z}$ independente de $\\bf{x,y}$ tal que ${\\bf{Az}} = \\bf{0}$? Explique!"
   ]
  },
  {
   "cell_type": "markdown",
   "id": "7f7bb7ad",
   "metadata": {},
   "source": [
    "$ x = \\begin{bmatrix} 1 \\\\ 0 \\\\ -1 \\end{bmatrix} $ , $y = \\begin{bmatrix} 1 \\\\ -1 \\\\ 0 \\end{bmatrix}$\n",
    "\n",
    "Os valores escolhidos para $x$ e $y$ já formam uma base para um espaço de dimensão 2. Como $A$ é uma matriz $3x3$ de posto 1 e o espaço gerado pelos vetores $x$ e $y$, de posto 2, completam ${\\mathbb R}^3$, não existe nenhum vetor $z \\in {\\mathbb R}^3$ independente de $x$, $y$ e $\\begin{bmatrix} 1 \\\\ 1 \\\\ 1 \\end{bmatrix}$ (ultimo vetor retirado da matriz $A$)"
   ]
  },
  {
   "cell_type": "markdown",
   "id": "fb7addf0",
   "metadata": {},
   "source": [
    "### 5. Combinações lineares de ${\\bf{v}} = (1,1,0)$ e ${\\bf{w}} = (0,1,1)$ preenchem um plano em ${\\mathbb R}^3$. (a) encontre $\\bf{z}$ perpendicular a $\\bf{v,w}$. O vetor $\\bf{z}$ é perpendicular a $c_1 {\\bf{v}}+ c_2 {\\bf{w}}$ para quaisquer $c_1,c_2$? (b) Encontre um vetor $\\bf{u}$ que não pertence ao plano gerado pelas combinações lineares de $\\bf{v,w}$. O produto interno ${\\bf{u}}^T {\\bf{z}} = 0$?"
   ]
  },
  {
   "cell_type": "markdown",
   "id": "d892647d",
   "metadata": {},
   "source": [
    "a)$z = \\begin{bmatrix} 1 \\\\ -1 \\\\ 1 \\end{bmatrix}$\n",
    "\n",
    "Sim, $z$ é perpendicular a $c_1v + c_2w$ para qualquer $c_1, c_2$ porque qualquer combinação linear de $v,w$ estará contida no plano gerado por $v$ e $w$ e $z$ é perpendicular ao plano.\n",
    "\n",
    "b) $u = \\begin{bmatrix} 3 \\\\ 4 \\\\ 2 \\end{bmatrix}$ Não, $u^{T}z = (3 \\times 1) + (4 \\times -1) + (2 \\times 1) = 1$"
   ]
  },
  {
   "cell_type": "markdown",
   "id": "04f6f2c2",
   "metadata": {},
   "source": [
    "### 6. Seja ${\\bf{A}} = (a_{ij}) \\in {\\mathbb{R}}^{3 \\times 3}$, com $a_{ij} = j^2$, encontre a fatoração $CR$ de $A$, i.e., $A= CR$"
   ]
  },
  {
   "cell_type": "markdown",
   "id": "b28f64d8",
   "metadata": {},
   "source": [
    "$ C = \\begin{bmatrix} 1 \\\\ 1 \\\\ 1 \\end{bmatrix}$, $R = \\begin{bmatrix} 1 & 4 & 9 \\end{bmatrix}$"
   ]
  },
  {
   "cell_type": "markdown",
   "id": "79f5f740",
   "metadata": {},
   "source": [
    "### 7. Suponha ${\\bf{A}} \\in {\\mathbb{R}}^{m \\times n}$ tal que col($A$) $= {\\mathbb{R}}^3$. O que você pode concluir sobre $m$? $n$? e o posto $r$?"
   ]
  },
  {
   "cell_type": "markdown",
   "id": "d1fd258a",
   "metadata": {},
   "source": [
    "$n \\geq 3$ - se o espaço coluna de $A$ gera ${\\mathbb{R}}^3$, são necessários no mínimo 3 vetores L.I nas colunas de $A$ \n",
    "\n",
    "$m \\geq 3$ - o posto das linhas de $A$ é o mesmo posto das colunas de $A$ \n",
    "\n",
    "$r = 3$ - dado que o espaço coluna de $A = {\\mathbb{R}}^3$, pode-se concluir que existem 3 vetores L.I gerando esse espaço e que quaisquer outros vetores coluna presentes em $A$ são L.D dos 3 vetores"
   ]
  },
  {
   "cell_type": "markdown",
   "id": "e0756cf7",
   "metadata": {},
   "source": [
    "### 8. Se $A= CR$, quais são os fatores $C_1, R_1$ de $A_1 = \\begin{bmatrix} 0 & A\\\\ 0 & A \\end{bmatrix}$?"
   ]
  },
  {
   "cell_type": "markdown",
   "id": "3464a9c3",
   "metadata": {},
   "source": [
    "$C_1 = \\begin{bmatrix} A \\\\ A \\end{bmatrix}$ e $R_1 = \\begin{bmatrix} 0 & 1\\end{bmatrix}$"
   ]
  },
  {
   "cell_type": "markdown",
   "id": "d41edd3f",
   "metadata": {},
   "source": [
    "### 9. Crie uma matriz $A \\in {\\mathbb{R}}^{3 \\times 2}$, com posto $2$, e encontre os fatores $C,M,R$."
   ]
  },
  {
   "cell_type": "markdown",
   "id": "eeecee65",
   "metadata": {},
   "source": [
    "$\\begin{bmatrix} 1 & 1 \\\\ 0 & 1 \\\\ 1 & 0 \\end{bmatrix}$ = $C = \\begin{bmatrix} 1 & 1 \\\\ 0 & 1 \\\\ 1 & 0 \\end{bmatrix} , M = \\begin{bmatrix} 1 & -1 \\\\ 0 & 1 \\end{bmatrix}, R = \\begin{bmatrix} 1 & 1 \\\\ 0 & 1 \\end{bmatrix}$"
   ]
  },
  {
   "cell_type": "code",
   "execution_count": null,
   "id": "6a0ae12b",
   "metadata": {},
   "outputs": [],
   "source": []
  }
 ],
 "metadata": {
  "kernelspec": {
   "display_name": "Julia 1.9.3",
   "language": "julia",
   "name": "julia-1.9"
  },
  "language_info": {
   "file_extension": ".jl",
   "mimetype": "application/julia",
   "name": "julia",
   "version": "1.9.3"
  }
 },
 "nbformat": 4,
 "nbformat_minor": 5
}
