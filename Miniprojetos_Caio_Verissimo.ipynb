{
 "cells": [
  {
   "cell_type": "code",
   "execution_count": 41,
   "id": "e2fc56b9-cb19-4e9c-b49f-16b1b210336c",
   "metadata": {},
   "outputs": [
    {
     "name": "stderr",
     "output_type": "stream",
     "text": [
      "\u001b[32m\u001b[1m   Resolving\u001b[22m\u001b[39m package versions...\n",
      "\u001b[32m\u001b[1m  No Changes\u001b[22m\u001b[39m to `C:\\Users\\caioc\\.julia\\environments\\v1.10\\Project.toml`\n",
      "\u001b[32m\u001b[1m  No Changes\u001b[22m\u001b[39m to `C:\\Users\\caioc\\.julia\\environments\\v1.10\\Manifest.toml`\n",
      "\u001b[32m\u001b[1m   Resolving\u001b[22m\u001b[39m package versions...\n",
      "\u001b[32m\u001b[1m  No Changes\u001b[22m\u001b[39m to `C:\\Users\\caioc\\.julia\\environments\\v1.10\\Project.toml`\n",
      "\u001b[32m\u001b[1m  No Changes\u001b[22m\u001b[39m to `C:\\Users\\caioc\\.julia\\environments\\v1.10\\Manifest.toml`\n",
      "\u001b[32m\u001b[1m   Resolving\u001b[22m\u001b[39m package versions...\n",
      "\u001b[32m\u001b[1m  No Changes\u001b[22m\u001b[39m to `C:\\Users\\caioc\\.julia\\environments\\v1.10\\Project.toml`\n",
      "\u001b[32m\u001b[1m  No Changes\u001b[22m\u001b[39m to `C:\\Users\\caioc\\.julia\\environments\\v1.10\\Manifest.toml`\n",
      "\u001b[32m\u001b[1m   Resolving\u001b[22m\u001b[39m package versions...\n",
      "\u001b[32m\u001b[1m  No Changes\u001b[22m\u001b[39m to `C:\\Users\\caioc\\.julia\\environments\\v1.10\\Project.toml`\n",
      "\u001b[32m\u001b[1m  No Changes\u001b[22m\u001b[39m to `C:\\Users\\caioc\\.julia\\environments\\v1.10\\Manifest.toml`\n",
      "\u001b[32m\u001b[1m   Resolving\u001b[22m\u001b[39m package versions...\n",
      "\u001b[32m\u001b[1m  No Changes\u001b[22m\u001b[39m to `C:\\Users\\caioc\\.julia\\environments\\v1.10\\Project.toml`\n",
      "\u001b[32m\u001b[1m  No Changes\u001b[22m\u001b[39m to `C:\\Users\\caioc\\.julia\\environments\\v1.10\\Manifest.toml`\n",
      "\u001b[32m\u001b[1m   Resolving\u001b[22m\u001b[39m package versions...\n",
      "\u001b[32m\u001b[1m  No Changes\u001b[22m\u001b[39m to `C:\\Users\\caioc\\.julia\\environments\\v1.10\\Project.toml`\n",
      "\u001b[32m\u001b[1m  No Changes\u001b[22m\u001b[39m to `C:\\Users\\caioc\\.julia\\environments\\v1.10\\Manifest.toml`\n",
      "\u001b[32m\u001b[1m   Resolving\u001b[22m\u001b[39m package versions...\n",
      "\u001b[32m\u001b[1m  No Changes\u001b[22m\u001b[39m to `C:\\Users\\caioc\\.julia\\environments\\v1.10\\Project.toml`\n",
      "\u001b[32m\u001b[1m  No Changes\u001b[22m\u001b[39m to `C:\\Users\\caioc\\.julia\\environments\\v1.10\\Manifest.toml`\n",
      "\u001b[32m\u001b[1m   Resolving\u001b[22m\u001b[39m package versions...\n",
      "\u001b[32m\u001b[1m  No Changes\u001b[22m\u001b[39m to `C:\\Users\\caioc\\.julia\\environments\\v1.10\\Project.toml`\n",
      "\u001b[32m\u001b[1m  No Changes\u001b[22m\u001b[39m to `C:\\Users\\caioc\\.julia\\environments\\v1.10\\Manifest.toml`\n",
      "\u001b[32m\u001b[1m   Resolving\u001b[22m\u001b[39m package versions...\n",
      "\u001b[32m\u001b[1m  No Changes\u001b[22m\u001b[39m to `C:\\Users\\caioc\\.julia\\environments\\v1.10\\Project.toml`\n",
      "\u001b[32m\u001b[1m  No Changes\u001b[22m\u001b[39m to `C:\\Users\\caioc\\.julia\\environments\\v1.10\\Manifest.toml`\n",
      "\u001b[32m\u001b[1m   Resolving\u001b[22m\u001b[39m package versions...\n",
      "\u001b[32m\u001b[1m  No Changes\u001b[22m\u001b[39m to `C:\\Users\\caioc\\.julia\\environments\\v1.10\\Project.toml`\n",
      "\u001b[32m\u001b[1m  No Changes\u001b[22m\u001b[39m to `C:\\Users\\caioc\\.julia\\environments\\v1.10\\Manifest.toml`\n",
      "\u001b[32m\u001b[1m   Resolving\u001b[22m\u001b[39m package versions...\n",
      "\u001b[32m\u001b[1m   Installed\u001b[22m\u001b[39m CEnum ─ v0.5.0\n",
      "\u001b[32m\u001b[1m   Installed\u001b[22m\u001b[39m CPLEX ─ v1.0.3\n",
      "\u001b[32m\u001b[1m    Updating\u001b[22m\u001b[39m `C:\\Users\\caioc\\.julia\\environments\\v1.10\\Project.toml`\n",
      "  \u001b[90m[a076750e] \u001b[39m\u001b[92m+ CPLEX v1.0.3\u001b[39m\n",
      "\u001b[32m\u001b[1m    Updating\u001b[22m\u001b[39m `C:\\Users\\caioc\\.julia\\environments\\v1.10\\Manifest.toml`\n",
      "  \u001b[90m[fa961155] \u001b[39m\u001b[92m+ CEnum v0.5.0\u001b[39m\n",
      "  \u001b[90m[a076750e] \u001b[39m\u001b[92m+ CPLEX v1.0.3\u001b[39m\n",
      "\u001b[32m\u001b[1m    Building\u001b[22m\u001b[39m CPLEX → `C:\\Users\\caioc\\.julia\\scratchspaces\\44cfe95a-1eb2-52ea-b672-e2afdf69b78f\\ac239474b90c8cea06e5595ac87b1235900f3044\\build.log`\n"
     ]
    },
    {
     "ename": "LoadError",
     "evalue": "Error building `CPLEX`: \nERROR: LoadError: Unable to install CPLEX.jl.\n\nThe versions of CPLEX supported by CPLEX.jl are:\n\n* 12.10\n* 20.1\n* 22.1 22.1.1\n\nYou must download and install one of these versions separately.\n\nYou should set the `CPLEX_STUDIO_BINARIES` environment variable to point to\nthe install location then try again. For example (updating the path to the\ncorrect location):\n\n```\nENV[\"CPLEX_STUDIO_BINARIES\"] = \"C:\\\\Program Files\\\\IBM\\\\ILOG\\\\CPLEX_Studio221\\\\cplex\\\\bin\\\\x64_win64\\\\\"\nimport Pkg\nPkg.add(\"CPLEX\")\nPkg.build(\"CPLEX\")\n```\n\nSee the CPLEX.jl README at https://github.com/jump-dev/CPLEX.jl for further\ninstructions.\n\nStacktrace:\n [1] error(s::String)\n   @ Base .\\error.jl:35\n [2] try_local_installation()\n   @ Main C:\\Users\\caioc\\.julia\\packages\\CPLEX\\eQ4bU\\deps\\build.jl:140\n [3] top-level scope\n   @ C:\\Users\\caioc\\.julia\\packages\\CPLEX\\eQ4bU\\deps\\build.jl:158\n [4] include(fname::String)\n   @ Base.MainInclude .\\client.jl:489\n [5] top-level scope\n   @ none:5\nin expression starting at C:\\Users\\caioc\\.julia\\packages\\CPLEX\\eQ4bU\\deps\\build.jl:151",
     "output_type": "error",
     "traceback": [
      "Error building `CPLEX`: \nERROR: LoadError: Unable to install CPLEX.jl.\n\nThe versions of CPLEX supported by CPLEX.jl are:\n\n* 12.10\n* 20.1\n* 22.1 22.1.1\n\nYou must download and install one of these versions separately.\n\nYou should set the `CPLEX_STUDIO_BINARIES` environment variable to point to\nthe install location then try again. For example (updating the path to the\ncorrect location):\n\n```\nENV[\"CPLEX_STUDIO_BINARIES\"] = \"C:\\\\Program Files\\\\IBM\\\\ILOG\\\\CPLEX_Studio221\\\\cplex\\\\bin\\\\x64_win64\\\\\"\nimport Pkg\nPkg.add(\"CPLEX\")\nPkg.build(\"CPLEX\")\n```\n\nSee the CPLEX.jl README at https://github.com/jump-dev/CPLEX.jl for further\ninstructions.\n\nStacktrace:\n [1] error(s::String)\n   @ Base .\\error.jl:35\n [2] try_local_installation()\n   @ Main C:\\Users\\caioc\\.julia\\packages\\CPLEX\\eQ4bU\\deps\\build.jl:140\n [3] top-level scope\n   @ C:\\Users\\caioc\\.julia\\packages\\CPLEX\\eQ4bU\\deps\\build.jl:158\n [4] include(fname::String)\n   @ Base.MainInclude .\\client.jl:489\n [5] top-level scope\n   @ none:5\nin expression starting at C:\\Users\\caioc\\.julia\\packages\\CPLEX\\eQ4bU\\deps\\build.jl:151",
      "",
      "Stacktrace:",
      "  [1] pkgerror(msg::String)",
      "    @ Pkg.Types C:\\Users\\caioc\\.julia\\juliaup\\julia-1.10.4+0.x64.w64.mingw32\\share\\julia\\stdlib\\v1.10\\Pkg\\src\\Types.jl:70",
      "  [2] (::Pkg.Operations.var\"#67#74\"{Bool, Pkg.Types.Context, String, Pkg.Types.PackageSpec, String})()",
      "    @ Pkg.Operations C:\\Users\\caioc\\.julia\\juliaup\\julia-1.10.4+0.x64.w64.mingw32\\share\\julia\\stdlib\\v1.10\\Pkg\\src\\Operations.jl:1157",
      "  [3] withenv(::Pkg.Operations.var\"#67#74\"{Bool, Pkg.Types.Context, String, Pkg.Types.PackageSpec, String}, ::Pair{String, String}, ::Vararg{Pair{String}})",
      "    @ Base .\\env.jl:257",
      "  [4] (::Pkg.Operations.var\"#117#122\"{String, Bool, Bool, Bool, Pkg.Operations.var\"#67#74\"{Bool, Pkg.Types.Context, String, Pkg.Types.PackageSpec, String}, Pkg.Types.PackageSpec})()",
      "    @ Pkg.Operations C:\\Users\\caioc\\.julia\\juliaup\\julia-1.10.4+0.x64.w64.mingw32\\share\\julia\\stdlib\\v1.10\\Pkg\\src\\Operations.jl:1825",
      "  [5] with_temp_env(fn::Pkg.Operations.var\"#117#122\"{String, Bool, Bool, Bool, Pkg.Operations.var\"#67#74\"{Bool, Pkg.Types.Context, String, Pkg.Types.PackageSpec, String}, Pkg.Types.PackageSpec}, temp_env::String)",
      "    @ Pkg.Operations C:\\Users\\caioc\\.julia\\juliaup\\julia-1.10.4+0.x64.w64.mingw32\\share\\julia\\stdlib\\v1.10\\Pkg\\src\\Operations.jl:1706",
      "  [6] (::Pkg.Operations.var\"#115#120\"{Dict{String, Any}, Bool, Bool, Bool, Pkg.Operations.var\"#67#74\"{Bool, Pkg.Types.Context, String, Pkg.Types.PackageSpec, String}, Pkg.Types.Context, Pkg.Types.PackageSpec, String, Pkg.Types.Project, String})(tmp::String)",
      "    @ Pkg.Operations C:\\Users\\caioc\\.julia\\juliaup\\julia-1.10.4+0.x64.w64.mingw32\\share\\julia\\stdlib\\v1.10\\Pkg\\src\\Operations.jl:1795",
      "  [7] mktempdir(fn::Pkg.Operations.var\"#115#120\"{Dict{String, Any}, Bool, Bool, Bool, Pkg.Operations.var\"#67#74\"{Bool, Pkg.Types.Context, String, Pkg.Types.PackageSpec, String}, Pkg.Types.Context, Pkg.Types.PackageSpec, String, Pkg.Types.Project, String}, parent::String; prefix::String)",
      "    @ Base.Filesystem .\\file.jl:766",
      "  [8] mktempdir(fn::Function, parent::String)",
      "    @ Base.Filesystem .\\file.jl:762",
      "  [9] mktempdir",
      "    @ .\\file.jl:762 [inlined]",
      " [10] sandbox(fn::Function, ctx::Pkg.Types.Context, target::Pkg.Types.PackageSpec, target_path::String, sandbox_path::String, sandbox_project_override::Pkg.Types.Project; preferences::Dict{String, Any}, force_latest_compatible_version::Bool, allow_earlier_backwards_compatible_versions::Bool, allow_reresolve::Bool)",
      "    @ Pkg.Operations C:\\Users\\caioc\\.julia\\juliaup\\julia-1.10.4+0.x64.w64.mingw32\\share\\julia\\stdlib\\v1.10\\Pkg\\src\\Operations.jl:1753",
      " [11] build_versions(ctx::Pkg.Types.Context, uuids::Set{Base.UUID}; verbose::Bool)",
      "    @ Pkg.Operations C:\\Users\\caioc\\.julia\\juliaup\\julia-1.10.4+0.x64.w64.mingw32\\share\\julia\\stdlib\\v1.10\\Pkg\\src\\Operations.jl:1138",
      " [12] build_versions",
      "    @ C:\\Users\\caioc\\.julia\\juliaup\\julia-1.10.4+0.x64.w64.mingw32\\share\\julia\\stdlib\\v1.10\\Pkg\\src\\Operations.jl:1056 [inlined]",
      " [13] add(ctx::Pkg.Types.Context, pkgs::Vector{Pkg.Types.PackageSpec}, new_git::Set{Base.UUID}; preserve::Pkg.Types.PreserveLevel, platform::Base.BinaryPlatforms.Platform)",
      "    @ Pkg.Operations C:\\Users\\caioc\\.julia\\juliaup\\julia-1.10.4+0.x64.w64.mingw32\\share\\julia\\stdlib\\v1.10\\Pkg\\src\\Operations.jl:1399",
      " [14] add",
      "    @ C:\\Users\\caioc\\.julia\\juliaup\\julia-1.10.4+0.x64.w64.mingw32\\share\\julia\\stdlib\\v1.10\\Pkg\\src\\Operations.jl:1377 [inlined]",
      " [15] add(ctx::Pkg.Types.Context, pkgs::Vector{Pkg.Types.PackageSpec}; preserve::Pkg.Types.PreserveLevel, platform::Base.BinaryPlatforms.Platform, kwargs::@Kwargs{io::IJulia.IJuliaStdio{Base.PipeEndpoint}})",
      "    @ Pkg.API C:\\Users\\caioc\\.julia\\juliaup\\julia-1.10.4+0.x64.w64.mingw32\\share\\julia\\stdlib\\v1.10\\Pkg\\src\\API.jl:278",
      " [16] add(pkgs::Vector{Pkg.Types.PackageSpec}; io::IJulia.IJuliaStdio{Base.PipeEndpoint}, kwargs::@Kwargs{})",
      "    @ Pkg.API C:\\Users\\caioc\\.julia\\juliaup\\julia-1.10.4+0.x64.w64.mingw32\\share\\julia\\stdlib\\v1.10\\Pkg\\src\\API.jl:159",
      " [17] add(pkgs::Vector{Pkg.Types.PackageSpec})",
      "    @ Pkg.API C:\\Users\\caioc\\.julia\\juliaup\\julia-1.10.4+0.x64.w64.mingw32\\share\\julia\\stdlib\\v1.10\\Pkg\\src\\API.jl:148",
      " [18] add",
      "    @ C:\\Users\\caioc\\.julia\\juliaup\\julia-1.10.4+0.x64.w64.mingw32\\share\\julia\\stdlib\\v1.10\\Pkg\\src\\API.jl:147 [inlined]",
      " [19] add(pkg::String)",
      "    @ Pkg.API C:\\Users\\caioc\\.julia\\juliaup\\julia-1.10.4+0.x64.w64.mingw32\\share\\julia\\stdlib\\v1.10\\Pkg\\src\\API.jl:146",
      " [20] top-level scope",
      "    @ In[41]:11"
     ]
    }
   ],
   "source": [
    "import Pkg; Pkg.add(\"Plots\")\n",
    "Pkg.add(\"Clp\") \n",
    "Pkg.add(\"JuMP\")\n",
    "Pkg.add(\"PyPlot\")\n",
    "Pkg.add(\"Plots\")\n",
    "Pkg.add(\"Polyhedra\")\n",
    "Pkg.add(\"CDDLib\")\n",
    "Pkg.add(\"Ipopt\")\n",
    "Pkg.add(\"Gurobi\")\n",
    "Pkg.add(\"NLopt\")\n",
    "Pkg.add(\"CPLEX\")"
   ]
  },
  {
   "cell_type": "code",
   "execution_count": 86,
   "id": "eccc71c4-a9e3-4844-b0a7-6203c560337b",
   "metadata": {
    "scrolled": true
   },
   "outputs": [],
   "source": [
    "using LinearAlgebra\n",
    "using Plots"
   ]
  },
  {
   "cell_type": "markdown",
   "id": "e7fb1c99-6141-43f8-b654-7614733508f8",
   "metadata": {},
   "source": [
    "# M1. (Dark mode) Explique como a similaridade visual óbvia (para humanos) entre uma imagem regular (imagem = pixéis pretos, fundo = pixéis brancos) e a imagem \"nightview\" ou \"dark mode\" (letras = pixéis brancos, fundo = pixéis pretos) é refletida nos valores singulares das matrizes correspondentes às imagens? A pergunta é intencionalmente vaga e não há resposta única. Investigue, faça conjecturas e tente explicar suas observações."
   ]
  },
  {
   "cell_type": "code",
   "execution_count": 5,
   "id": "04355db4-f3b3-4790-85d9-5e0530a07a16",
   "metadata": {},
   "outputs": [
    {
     "data": {
      "image/png": "[encoded data removed]",
      "image/svg+xml": [
       "<?xml version=\"1.0\" encoding=\"utf-8\"?>\n",
       "<svg xmlns=\"http://www.w3.org/2000/svg\" xmlns:xlink=\"http://www.w3.org/1999/xlink\" width=\"600\" height=\"400\" viewBox=\"0 0 2400 1600\">\n",
       "<defs>\n",
       "  <clipPath id=\"clip190\">\n",
       "    <rect x=\"0\" y=\"0\" width=\"2400\" height=\"1600\"/>\n",
       "  </clipPath>\n",
       "</defs>\n",
       "<path clip-path=\"url(#clip190)\" d=\"M0 1600 L2400 1600 L2400 0 L0 0  Z\" fill=\"#ffffff\" fill-rule=\"evenodd\" fill-opacity=\"1\"/>\n",
       "<defs>\n",
       "  <clipPath id=\"clip191\">\n",
       "    <rect x=\"480\" y=\"0\" width=\"1681\" height=\"1600\"/>\n",
       "  </clipPath>\n",
       "</defs>\n",
       "<path clip-path=\"url(#clip190)\" d=\"M140.696 1486.45 L2352.76 1486.45 L2352.76 47.2441 L140.696 47.2441  Z\" fill=\"#ffffff\" fill-rule=\"evenodd\" fill-opacity=\"1\"/>\n",
       "<defs>\n",
       "  <clipPath id=\"clip192\">\n",
       "    <rect x=\"140\" y=\"47\" width=\"2213\" height=\"1440\"/>\n",
       "  </clipPath>\n",
       "</defs>\n",
       "<polyline clip-path=\"url(#clip192)\" style=\"stroke:#000000; stroke-linecap:round; stroke-linejoin:round; stroke-width:2; stroke-opacity:0.1; fill:none\" points=\"160.712,1486.45 160.712,47.2441 \"/>\n",
       "<polyline clip-path=\"url(#clip192)\" style=\"stroke:#000000; stroke-linecap:round; stroke-linejoin:round; stroke-width:2; stroke-opacity:0.1; fill:none\" points=\"586.6,1486.45 586.6,47.2441 \"/>\n",
       "<polyline clip-path=\"url(#clip192)\" style=\"stroke:#000000; stroke-linecap:round; stroke-linejoin:round; stroke-width:2; stroke-opacity:0.1; fill:none\" points=\"1012.49,1486.45 1012.49,47.2441 \"/>\n",
       "<polyline clip-path=\"url(#clip192)\" style=\"stroke:#000000; stroke-linecap:round; stroke-linejoin:round; stroke-width:2; stroke-opacity:0.1; fill:none\" points=\"1438.38,1486.45 1438.38,47.2441 \"/>\n",
       "<polyline clip-path=\"url(#clip192)\" style=\"stroke:#000000; stroke-linecap:round; stroke-linejoin:round; stroke-width:2; stroke-opacity:0.1; fill:none\" points=\"1864.26,1486.45 1864.26,47.2441 \"/>\n",
       "<polyline clip-path=\"url(#clip192)\" style=\"stroke:#000000; stroke-linecap:round; stroke-linejoin:round; stroke-width:2; stroke-opacity:0.1; fill:none\" points=\"2290.15,1486.45 2290.15,47.2441 \"/>\n",
       "<polyline clip-path=\"url(#clip190)\" style=\"stroke:#000000; stroke-linecap:round; stroke-linejoin:round; stroke-width:4; stroke-opacity:1; fill:none\" points=\"140.696,1486.45 2352.76,1486.45 \"/>\n",
       "<polyline clip-path=\"url(#clip190)\" style=\"stroke:#000000; stroke-linecap:round; stroke-linejoin:round; stroke-width:4; stroke-opacity:1; fill:none\" points=\"160.712,1486.45 160.712,1467.55 \"/>\n",
       "<polyline clip-path=\"url(#clip190)\" style=\"stroke:#000000; stroke-linecap:round; stroke-linejoin:round; stroke-width:4; stroke-opacity:1; fill:none\" points=\"586.6,1486.45 586.6,1467.55 \"/>\n",
       "<polyline clip-path=\"url(#clip190)\" style=\"stroke:#000000; stroke-linecap:round; stroke-linejoin:round; stroke-width:4; stroke-opacity:1; fill:none\" points=\"1012.49,1486.45 1012.49,1467.55 \"/>\n",
       "<polyline clip-path=\"url(#clip190)\" style=\"stroke:#000000; stroke-linecap:round; stroke-linejoin:round; stroke-width:4; stroke-opacity:1; fill:none\" points=\"1438.38,1486.45 1438.38,1467.55 \"/>\n",
       "<polyline clip-path=\"url(#clip190)\" style=\"stroke:#000000; stroke-linecap:round; stroke-linejoin:round; stroke-width:4; stroke-opacity:1; fill:none\" points=\"1864.26,1486.45 1864.26,1467.55 \"/>\n",
       "<polyline clip-path=\"url(#clip190)\" style=\"stroke:#000000; stroke-linecap:round; stroke-linejoin:round; stroke-width:4; stroke-opacity:1; fill:none\" points=\"2290.15,1486.45 2290.15,1467.55 \"/>\n",
       "<path clip-path=\"url(#clip190)\" d=\"M160.712 1517.37 Q157.101 1517.37 155.272 1520.93 Q153.467 1524.47 153.467 1531.6 Q153.467 1538.71 155.272 1542.27 Q157.101 1545.82 160.712 1545.82 Q164.347 1545.82 166.152 1542.27 Q167.981 1538.71 167.981 1531.6 Q167.981 1524.47 166.152 1520.93 Q164.347 1517.37 160.712 1517.37 M160.712 1513.66 Q166.522 1513.66 169.578 1518.27 Q172.657 1522.85 172.657 1531.6 Q172.657 1540.33 169.578 1544.94 Q166.522 1549.52 160.712 1549.52 Q154.902 1549.52 151.823 1544.94 Q148.768 1540.33 148.768 1531.6 Q148.768 1522.85 151.823 1518.27 Q154.902 1513.66 160.712 1513.66 Z\" fill=\"#000000\" fill-rule=\"nonzero\" fill-opacity=\"1\" /><path clip-path=\"url(#clip190)\" d=\"M561.288 1544.91 L568.926 1544.91 L568.926 1518.55 L560.616 1520.21 L560.616 1515.95 L568.88 1514.29 L573.556 1514.29 L573.556 1544.91 L581.195 1544.91 L581.195 1548.85 L561.288 1548.85 L561.288 1544.91 Z\" fill=\"#000000\" fill-rule=\"nonzero\" fill-opacity=\"1\" /><path clip-path=\"url(#clip190)\" d=\"M600.639 1517.37 Q597.028 1517.37 595.199 1520.93 Q593.394 1524.47 593.394 1531.6 Q593.394 1538.71 595.199 1542.27 Q597.028 1545.82 600.639 1545.82 Q604.273 1545.82 606.079 1542.27 Q607.908 1538.71 607.908 1531.6 Q607.908 1524.47 606.079 1520.93 Q604.273 1517.37 600.639 1517.37 M600.639 1513.66 Q606.449 1513.66 609.505 1518.27 Q612.584 1522.85 612.584 1531.6 Q612.584 1540.33 609.505 1544.94 Q606.449 1549.52 600.639 1549.52 Q594.829 1549.52 591.75 1544.94 Q588.695 1540.33 588.695 1531.6 Q588.695 1522.85 591.75 1518.27 Q594.829 1513.66 600.639 1513.66 Z\" fill=\"#000000\" fill-rule=\"nonzero\" fill-opacity=\"1\" /><path clip-path=\"url(#clip190)\" d=\"M991.261 1544.91 L1007.58 1544.91 L1007.58 1548.85 L985.636 1548.85 L985.636 1544.91 Q988.298 1542.16 992.881 1537.53 Q997.488 1532.88 998.668 1531.53 Q1000.91 1529.01 1001.79 1527.27 Q1002.7 1525.51 1002.7 1523.82 Q1002.7 1521.07 1000.75 1519.33 Q998.83 1517.6 995.728 1517.6 Q993.529 1517.6 991.076 1518.36 Q988.645 1519.13 985.867 1520.68 L985.867 1515.95 Q988.691 1514.82 991.145 1514.24 Q993.599 1513.66 995.636 1513.66 Q1001.01 1513.66 1004.2 1516.35 Q1007.39 1519.03 1007.39 1523.52 Q1007.39 1525.65 1006.58 1527.57 Q1005.8 1529.47 1003.69 1532.07 Q1003.11 1532.74 1000.01 1535.95 Q996.909 1539.15 991.261 1544.91 Z\" fill=\"#000000\" fill-rule=\"nonzero\" fill-opacity=\"1\" /><path clip-path=\"url(#clip190)\" d=\"M1027.39 1517.37 Q1023.78 1517.37 1021.96 1520.93 Q1020.15 1524.47 1020.15 1531.6 Q1020.15 1538.71 1021.96 1542.27 Q1023.78 1545.82 1027.39 1545.82 Q1031.03 1545.82 1032.83 1542.27 Q1034.66 1538.71 1034.66 1531.6 Q1034.66 1524.47 1032.83 1520.93 Q1031.03 1517.37 1027.39 1517.37 M1027.39 1513.66 Q1033.21 1513.66 1036.26 1518.27 Q1039.34 1522.85 1039.34 1531.6 Q1039.34 1540.33 1036.26 1544.94 Q1033.21 1549.52 1027.39 1549.52 Q1021.58 1549.52 1018.51 1544.94 Q1015.45 1540.33 1015.45 1531.6 Q1015.45 1522.85 1018.51 1518.27 Q1021.58 1513.66 1027.39 1513.66 Z\" fill=\"#000000\" fill-rule=\"nonzero\" fill-opacity=\"1\" /><path clip-path=\"url(#clip190)\" d=\"M1427.22 1530.21 Q1430.57 1530.93 1432.45 1533.2 Q1434.35 1535.47 1434.35 1538.8 Q1434.35 1543.92 1430.83 1546.72 Q1427.31 1549.52 1420.83 1549.52 Q1418.65 1549.52 1416.34 1549.08 Q1414.05 1548.66 1411.59 1547.81 L1411.59 1543.29 Q1413.54 1544.43 1415.85 1545.01 Q1418.17 1545.58 1420.69 1545.58 Q1425.09 1545.58 1427.38 1543.85 Q1429.69 1542.11 1429.69 1538.8 Q1429.69 1535.75 1427.54 1534.03 Q1425.41 1532.3 1421.59 1532.3 L1417.57 1532.3 L1417.57 1528.45 L1421.78 1528.45 Q1425.23 1528.45 1427.06 1527.09 Q1428.88 1525.7 1428.88 1523.11 Q1428.88 1520.45 1426.99 1519.03 Q1425.11 1517.6 1421.59 1517.6 Q1419.67 1517.6 1417.47 1518.01 Q1415.27 1518.43 1412.63 1519.31 L1412.63 1515.14 Q1415.3 1514.4 1417.61 1514.03 Q1419.95 1513.66 1422.01 1513.66 Q1427.33 1513.66 1430.44 1516.09 Q1433.54 1518.5 1433.54 1522.62 Q1433.54 1525.49 1431.89 1527.48 Q1430.25 1529.45 1427.22 1530.21 Z\" fill=\"#000000\" fill-rule=\"nonzero\" fill-opacity=\"1\" /><path clip-path=\"url(#clip190)\" d=\"M1453.21 1517.37 Q1449.6 1517.37 1447.77 1520.93 Q1445.97 1524.47 1445.97 1531.6 Q1445.97 1538.71 1447.77 1542.27 Q1449.6 1545.82 1453.21 1545.82 Q1456.85 1545.82 1458.65 1542.27 Q1460.48 1538.71 1460.48 1531.6 Q1460.48 1524.47 1458.65 1520.93 Q1456.85 1517.37 1453.21 1517.37 M1453.21 1513.66 Q1459.02 1513.66 1462.08 1518.27 Q1465.16 1522.85 1465.16 1531.6 Q1465.16 1540.33 1462.08 1544.94 Q1459.02 1549.52 1453.21 1549.52 Q1447.4 1549.52 1444.32 1544.94 Q1441.27 1540.33 1441.27 1531.6 Q1441.27 1522.85 1444.32 1518.27 Q1447.4 1513.66 1453.21 1513.66 Z\" fill=\"#000000\" fill-rule=\"nonzero\" fill-opacity=\"1\" /><path clip-path=\"url(#clip190)\" d=\"M1852.43 1518.36 L1840.63 1536.81 L1852.43 1536.81 L1852.43 1518.36 M1851.21 1514.29 L1857.09 1514.29 L1857.09 1536.81 L1862.02 1536.81 L1862.02 1540.7 L1857.09 1540.7 L1857.09 1548.85 L1852.43 1548.85 L1852.43 1540.7 L1836.83 1540.7 L1836.83 1536.19 L1851.21 1514.29 Z\" fill=\"#000000\" fill-rule=\"nonzero\" fill-opacity=\"1\" /><path clip-path=\"url(#clip190)\" d=\"M1879.75 1517.37 Q1876.14 1517.37 1874.31 1520.93 Q1872.5 1524.47 1872.5 1531.6 Q1872.5 1538.71 1874.31 1542.27 Q1876.14 1545.82 1879.75 1545.82 Q1883.38 1545.82 1885.19 1542.27 Q1887.02 1538.71 1887.02 1531.6 Q1887.02 1524.47 1885.19 1520.93 Q1883.38 1517.37 1879.75 1517.37 M1879.75 1513.66 Q1885.56 1513.66 1888.61 1518.27 Q1891.69 1522.85 1891.69 1531.6 Q1891.69 1540.33 1888.61 1544.94 Q1885.56 1549.52 1879.75 1549.52 Q1873.94 1549.52 1870.86 1544.94 Q1867.8 1540.33 1867.8 1531.6 Q1867.8 1522.85 1870.86 1518.27 Q1873.94 1513.66 1879.75 1513.66 Z\" fill=\"#000000\" fill-rule=\"nonzero\" fill-opacity=\"1\" /><path clip-path=\"url(#clip190)\" d=\"M2264.85 1514.29 L2283.21 1514.29 L2283.21 1518.22 L2269.13 1518.22 L2269.13 1526.7 Q2270.15 1526.35 2271.17 1526.19 Q2272.19 1526 2273.21 1526 Q2278.99 1526 2282.37 1529.17 Q2285.75 1532.34 2285.75 1537.76 Q2285.75 1543.34 2282.28 1546.44 Q2278.81 1549.52 2272.49 1549.52 Q2270.31 1549.52 2268.04 1549.15 Q2265.8 1548.78 2263.39 1548.04 L2263.39 1543.34 Q2265.47 1544.47 2267.7 1545.03 Q2269.92 1545.58 2272.4 1545.58 Q2276.4 1545.58 2278.74 1543.48 Q2281.08 1541.37 2281.08 1537.76 Q2281.08 1534.15 2278.74 1532.04 Q2276.4 1529.94 2272.4 1529.94 Q2270.52 1529.94 2268.65 1530.35 Q2266.79 1530.77 2264.85 1531.65 L2264.85 1514.29 Z\" fill=\"#000000\" fill-rule=\"nonzero\" fill-opacity=\"1\" /><path clip-path=\"url(#clip190)\" d=\"M2304.97 1517.37 Q2301.35 1517.37 2299.53 1520.93 Q2297.72 1524.47 2297.72 1531.6 Q2297.72 1538.71 2299.53 1542.27 Q2301.35 1545.82 2304.97 1545.82 Q2308.6 1545.82 2310.4 1542.27 Q2312.23 1538.71 2312.23 1531.6 Q2312.23 1524.47 2310.4 1520.93 Q2308.6 1517.37 2304.97 1517.37 M2304.97 1513.66 Q2310.78 1513.66 2313.83 1518.27 Q2316.91 1522.85 2316.91 1531.6 Q2316.91 1540.33 2313.83 1544.94 Q2310.78 1549.52 2304.97 1549.52 Q2299.16 1549.52 2296.08 1544.94 Q2293.02 1540.33 2293.02 1531.6 Q2293.02 1522.85 2296.08 1518.27 Q2299.16 1513.66 2304.97 1513.66 Z\" fill=\"#000000\" fill-rule=\"nonzero\" fill-opacity=\"1\" /><polyline clip-path=\"url(#clip192)\" style=\"stroke:#000000; stroke-linecap:round; stroke-linejoin:round; stroke-width:2; stroke-opacity:0.1; fill:none\" points=\"140.696,1448.75 2352.76,1448.75 \"/>\n",
       "<polyline clip-path=\"url(#clip192)\" style=\"stroke:#000000; stroke-linecap:round; stroke-linejoin:round; stroke-width:2; stroke-opacity:0.1; fill:none\" points=\"140.696,1183.1 2352.76,1183.1 \"/>\n",
       "<polyline clip-path=\"url(#clip192)\" style=\"stroke:#000000; stroke-linecap:round; stroke-linejoin:round; stroke-width:2; stroke-opacity:0.1; fill:none\" points=\"140.696,917.446 2352.76,917.446 \"/>\n",
       "<polyline clip-path=\"url(#clip192)\" style=\"stroke:#000000; stroke-linecap:round; stroke-linejoin:round; stroke-width:2; stroke-opacity:0.1; fill:none\" points=\"140.696,651.793 2352.76,651.793 \"/>\n",
       "<polyline clip-path=\"url(#clip192)\" style=\"stroke:#000000; stroke-linecap:round; stroke-linejoin:round; stroke-width:2; stroke-opacity:0.1; fill:none\" points=\"140.696,386.141 2352.76,386.141 \"/>\n",
       "<polyline clip-path=\"url(#clip192)\" style=\"stroke:#000000; stroke-linecap:round; stroke-linejoin:round; stroke-width:2; stroke-opacity:0.1; fill:none\" points=\"140.696,120.488 2352.76,120.488 \"/>\n",
       "<polyline clip-path=\"url(#clip190)\" style=\"stroke:#000000; stroke-linecap:round; stroke-linejoin:round; stroke-width:4; stroke-opacity:1; fill:none\" points=\"140.696,1486.45 140.696,47.2441 \"/>\n",
       "<polyline clip-path=\"url(#clip190)\" style=\"stroke:#000000; stroke-linecap:round; stroke-linejoin:round; stroke-width:4; stroke-opacity:1; fill:none\" points=\"140.696,1448.75 159.593,1448.75 \"/>\n",
       "<polyline clip-path=\"url(#clip190)\" style=\"stroke:#000000; stroke-linecap:round; stroke-linejoin:round; stroke-width:4; stroke-opacity:1; fill:none\" points=\"140.696,1183.1 159.593,1183.1 \"/>\n",
       "<polyline clip-path=\"url(#clip190)\" style=\"stroke:#000000; stroke-linecap:round; stroke-linejoin:round; stroke-width:4; stroke-opacity:1; fill:none\" points=\"140.696,917.446 159.593,917.446 \"/>\n",
       "<polyline clip-path=\"url(#clip190)\" style=\"stroke:#000000; stroke-linecap:round; stroke-linejoin:round; stroke-width:4; stroke-opacity:1; fill:none\" points=\"140.696,651.793 159.593,651.793 \"/>\n",
       "<polyline clip-path=\"url(#clip190)\" style=\"stroke:#000000; stroke-linecap:round; stroke-linejoin:round; stroke-width:4; stroke-opacity:1; fill:none\" points=\"140.696,386.141 159.593,386.141 \"/>\n",
       "<polyline clip-path=\"url(#clip190)\" style=\"stroke:#000000; stroke-linecap:round; stroke-linejoin:round; stroke-width:4; stroke-opacity:1; fill:none\" points=\"140.696,120.488 159.593,120.488 \"/>\n",
       "<path clip-path=\"url(#clip190)\" d=\"M92.7512 1434.55 Q89.1401 1434.55 87.3114 1438.11 Q85.5058 1441.66 85.5058 1448.79 Q85.5058 1455.89 87.3114 1459.46 Q89.1401 1463 92.7512 1463 Q96.3854 1463 98.1909 1459.46 Q100.02 1455.89 100.02 1448.79 Q100.02 1441.66 98.1909 1438.11 Q96.3854 1434.55 92.7512 1434.55 M92.7512 1430.85 Q98.5613 1430.85 101.617 1435.45 Q104.696 1440.04 104.696 1448.79 Q104.696 1457.51 101.617 1462.12 Q98.5613 1466.7 92.7512 1466.7 Q86.941 1466.7 83.8623 1462.12 Q80.8068 1457.51 80.8068 1448.79 Q80.8068 1440.04 83.8623 1435.45 Q86.941 1430.85 92.7512 1430.85 Z\" fill=\"#000000\" fill-rule=\"nonzero\" fill-opacity=\"1\" /><path clip-path=\"url(#clip190)\" d=\"M83.7929 1165.82 L102.149 1165.82 L102.149 1169.75 L88.0753 1169.75 L88.0753 1178.23 Q89.0938 1177.88 90.1123 1177.72 Q91.1308 1177.53 92.1493 1177.53 Q97.9363 1177.53 101.316 1180.7 Q104.696 1183.87 104.696 1189.29 Q104.696 1194.87 101.223 1197.97 Q97.7511 1201.05 91.4317 1201.05 Q89.2558 1201.05 86.9873 1200.68 Q84.7419 1200.31 82.3346 1199.57 L82.3346 1194.87 Q84.4179 1196 86.6401 1196.56 Q88.8623 1197.11 91.3391 1197.11 Q95.3437 1197.11 97.6817 1195.01 Q100.02 1192.9 100.02 1189.29 Q100.02 1185.68 97.6817 1183.57 Q95.3437 1181.47 91.3391 1181.47 Q89.4641 1181.47 87.5892 1181.88 Q85.7373 1182.3 83.7929 1183.18 L83.7929 1165.82 Z\" fill=\"#000000\" fill-rule=\"nonzero\" fill-opacity=\"1\" /><path clip-path=\"url(#clip190)\" d=\"M53.3995 930.791 L61.0384 930.791 L61.0384 904.425 L52.7282 906.092 L52.7282 901.833 L60.9921 900.166 L65.668 900.166 L65.668 930.791 L73.3068 930.791 L73.3068 934.726 L53.3995 934.726 L53.3995 930.791 Z\" fill=\"#000000\" fill-rule=\"nonzero\" fill-opacity=\"1\" /><path clip-path=\"url(#clip190)\" d=\"M92.7512 903.245 Q89.1401 903.245 87.3114 906.809 Q85.5058 910.351 85.5058 917.481 Q85.5058 924.587 87.3114 928.152 Q89.1401 931.693 92.7512 931.693 Q96.3854 931.693 98.1909 928.152 Q100.02 924.587 100.02 917.481 Q100.02 910.351 98.1909 906.809 Q96.3854 903.245 92.7512 903.245 M92.7512 899.541 Q98.5613 899.541 101.617 904.147 Q104.696 908.731 104.696 917.481 Q104.696 926.207 101.617 930.814 Q98.5613 935.397 92.7512 935.397 Q86.941 935.397 83.8623 930.814 Q80.8068 926.207 80.8068 917.481 Q80.8068 908.731 83.8623 904.147 Q86.941 899.541 92.7512 899.541 Z\" fill=\"#000000\" fill-rule=\"nonzero\" fill-opacity=\"1\" /><path clip-path=\"url(#clip190)\" d=\"M54.3949 665.138 L62.0337 665.138 L62.0337 638.772 L53.7236 640.439 L53.7236 636.18 L61.9874 634.513 L66.6633 634.513 L66.6633 665.138 L74.3022 665.138 L74.3022 669.073 L54.3949 669.073 L54.3949 665.138 Z\" fill=\"#000000\" fill-rule=\"nonzero\" fill-opacity=\"1\" /><path clip-path=\"url(#clip190)\" d=\"M83.7929 634.513 L102.149 634.513 L102.149 638.448 L88.0753 638.448 L88.0753 646.921 Q89.0938 646.573 90.1123 646.411 Q91.1308 646.226 92.1493 646.226 Q97.9363 646.226 101.316 649.397 Q104.696 652.569 104.696 657.985 Q104.696 663.564 101.223 666.666 Q97.7511 669.745 91.4317 669.745 Q89.2558 669.745 86.9873 669.374 Q84.7419 669.004 82.3346 668.263 L82.3346 663.564 Q84.4179 664.698 86.6401 665.254 Q88.8623 665.809 91.3391 665.809 Q95.3437 665.809 97.6817 663.703 Q100.02 661.596 100.02 657.985 Q100.02 654.374 97.6817 652.268 Q95.3437 650.161 91.3391 650.161 Q89.4641 650.161 87.5892 650.578 Q85.7373 650.995 83.7929 651.874 L83.7929 634.513 Z\" fill=\"#000000\" fill-rule=\"nonzero\" fill-opacity=\"1\" /><path clip-path=\"url(#clip190)\" d=\"M56.6171 399.485 L72.9365 399.485 L72.9365 403.421 L50.9921 403.421 L50.9921 399.485 Q53.6541 396.731 58.2375 392.101 Q62.8439 387.448 64.0245 386.106 Q66.2698 383.583 67.1494 381.847 Q68.0522 380.087 68.0522 378.398 Q68.0522 375.643 66.1078 373.907 Q64.1865 372.171 61.0847 372.171 Q58.8856 372.171 56.4319 372.935 Q54.0014 373.699 51.2236 375.249 L51.2236 370.527 Q54.0477 369.393 56.5014 368.814 Q58.955 368.236 60.9921 368.236 Q66.3624 368.236 69.5568 370.921 Q72.7513 373.606 72.7513 378.097 Q72.7513 380.226 71.9411 382.148 Q71.1541 384.046 69.0476 386.638 Q68.4689 387.31 65.367 390.527 Q62.2652 393.722 56.6171 399.485 Z\" fill=\"#000000\" fill-rule=\"nonzero\" fill-opacity=\"1\" /><path clip-path=\"url(#clip190)\" d=\"M92.7512 371.939 Q89.1401 371.939 87.3114 375.504 Q85.5058 379.046 85.5058 386.175 Q85.5058 393.282 87.3114 396.847 Q89.1401 400.388 92.7512 400.388 Q96.3854 400.388 98.1909 396.847 Q100.02 393.282 100.02 386.175 Q100.02 379.046 98.1909 375.504 Q96.3854 371.939 92.7512 371.939 M92.7512 368.236 Q98.5613 368.236 101.617 372.842 Q104.696 377.425 104.696 386.175 Q104.696 394.902 101.617 399.509 Q98.5613 404.092 92.7512 404.092 Q86.941 404.092 83.8623 399.509 Q80.8068 394.902 80.8068 386.175 Q80.8068 377.425 83.8623 372.842 Q86.941 368.236 92.7512 368.236 Z\" fill=\"#000000\" fill-rule=\"nonzero\" fill-opacity=\"1\" /><path clip-path=\"url(#clip190)\" d=\"M57.6125 133.833 L73.9318 133.833 L73.9318 137.768 L51.9875 137.768 L51.9875 133.833 Q54.6495 131.078 59.2328 126.449 Q63.8393 121.796 65.0198 120.453 Q67.2652 117.93 68.1448 116.194 Q69.0476 114.435 69.0476 112.745 Q69.0476 109.99 67.1032 108.254 Q65.1819 106.518 62.08 106.518 Q59.881 106.518 57.4273 107.282 Q54.9967 108.046 52.219 109.597 L52.219 104.875 Q55.043 103.74 57.4967 103.162 Q59.9504 102.583 61.9874 102.583 Q67.3578 102.583 70.5522 105.268 Q73.7466 107.953 73.7466 112.444 Q73.7466 114.574 72.9365 116.495 Q72.1494 118.393 70.0429 120.986 Q69.4642 121.657 66.3624 124.875 Q63.2606 128.069 57.6125 133.833 Z\" fill=\"#000000\" fill-rule=\"nonzero\" fill-opacity=\"1\" /><path clip-path=\"url(#clip190)\" d=\"M83.7929 103.208 L102.149 103.208 L102.149 107.143 L88.0753 107.143 L88.0753 115.615 Q89.0938 115.268 90.1123 115.106 Q91.1308 114.921 92.1493 114.921 Q97.9363 114.921 101.316 118.092 Q104.696 121.263 104.696 126.68 Q104.696 132.259 101.223 135.361 Q97.7511 138.439 91.4317 138.439 Q89.2558 138.439 86.9873 138.069 Q84.7419 137.699 82.3346 136.958 L82.3346 132.259 Q84.4179 133.393 86.6401 133.949 Q88.8623 134.504 91.3391 134.504 Q95.3437 134.504 97.6817 132.398 Q100.02 130.291 100.02 126.68 Q100.02 123.069 97.6817 120.963 Q95.3437 118.856 91.3391 118.856 Q89.4641 118.856 87.5892 119.273 Q85.7373 119.689 83.7929 120.569 L83.7929 103.208 Z\" fill=\"#000000\" fill-rule=\"nonzero\" fill-opacity=\"1\" /><polyline clip-path=\"url(#clip192)\" style=\"stroke:#009af9; stroke-linecap:round; stroke-linejoin:round; stroke-width:4; stroke-opacity:1; fill:none\" points=\"203.301,136.249 245.89,1240.51 288.479,1252.15 331.067,1262.38 373.656,1272.89 416.245,1280.36 458.834,1282.61 501.422,1283.97 544.011,1287.43 586.6,1289.81 629.189,1298.77 671.777,1303.67 714.366,1307.61 756.955,1310.18 799.544,1316.28 842.132,1318.93 884.721,1324.24 927.31,1329.53 969.899,1331.27 1012.49,1333.84 1055.08,1338.6 1097.67,1345.8 1140.25,1354.08 1182.84,1356.73 1225.43,1360.4 1268.02,1364.82 1310.61,1366.44 1353.2,1366.98 1395.79,1374.68 1438.38,1378.62 1480.96,1382.83 1523.55,1383.36 1566.14,1388.73 1608.73,1388.86 1651.32,1395.78 1693.91,1397.71 1736.5,1399.5 1779.09,1405.27 1821.67,1406.42 1864.26,1412.78 1906.85,1418.49 1949.44,1419.77 1992.03,1423.66 2034.62,1425.45 2077.21,1429.98 2119.8,1433.47 2162.38,1435 2204.97,1436.85 2247.56,1442.31 2290.15,1445.51 \"/>\n",
       "<polyline clip-path=\"url(#clip192)\" style=\"stroke:#e26f46; stroke-linecap:round; stroke-linejoin:round; stroke-width:4; stroke-opacity:1; fill:none\" points=\"203.301,87.9763 245.89,1240.42 288.479,1252.34 331.067,1262.26 373.656,1272.88 416.245,1280.05 458.834,1282.12 501.422,1282.74 544.011,1287.36 586.6,1289.67 629.189,1298.78 671.777,1303.57 714.366,1307.46 756.955,1310.05 799.544,1316.44 842.132,1319.51 884.721,1324.41 927.31,1329.39 969.899,1331.25 1012.49,1333.91 1055.08,1338.29 1097.67,1345.74 1140.25,1353.97 1182.84,1357.29 1225.43,1360.4 1268.02,1364.78 1310.61,1366.06 1353.2,1367.73 1395.79,1374.49 1438.38,1378.86 1480.96,1383.03 1523.55,1383.33 1566.14,1388.83 1608.73,1389.02 1651.32,1395.43 1693.91,1397.4 1736.5,1399.62 1779.09,1405.34 1821.67,1406.95 1864.26,1412.84 1906.85,1417.96 1949.44,1419.9 1992.03,1423.89 2034.62,1425.55 2077.21,1429.47 2119.8,1433.47 2162.38,1435.02 2204.97,1436.81 2247.56,1442.31 2290.15,1445.72 \"/>\n",
       "<path clip-path=\"url(#clip190)\" d=\"M2005.38 250.738 L2279.02 250.738 L2279.02 95.2176 L2005.38 95.2176  Z\" fill=\"#ffffff\" fill-rule=\"evenodd\" fill-opacity=\"1\"/>\n",
       "<polyline clip-path=\"url(#clip190)\" style=\"stroke:#000000; stroke-linecap:round; stroke-linejoin:round; stroke-width:4; stroke-opacity:1; fill:none\" points=\"2005.38,250.738 2279.02,250.738 2279.02,95.2176 2005.38,95.2176 2005.38,250.738 \"/>\n",
       "<polyline clip-path=\"url(#clip190)\" style=\"stroke:#009af9; stroke-linecap:round; stroke-linejoin:round; stroke-width:4; stroke-opacity:1; fill:none\" points=\"2029.96,147.058 2177.43,147.058 \"/>\n",
       "<path clip-path=\"url(#clip190)\" d=\"M2215.85 166.745 Q2214.05 171.375 2212.34 172.787 Q2210.62 174.199 2207.75 174.199 L2204.35 174.199 L2204.35 170.634 L2206.85 170.634 Q2208.61 170.634 2209.58 169.8 Q2210.55 168.967 2211.73 165.865 L2212.5 163.921 L2202.01 138.412 L2206.53 138.412 L2214.63 158.689 L2222.73 138.412 L2227.24 138.412 L2215.85 166.745 Z\" fill=\"#000000\" fill-rule=\"nonzero\" fill-opacity=\"1\" /><path clip-path=\"url(#clip190)\" d=\"M2234.53 160.402 L2242.17 160.402 L2242.17 134.037 L2233.86 135.703 L2233.86 131.444 L2242.13 129.778 L2246.8 129.778 L2246.8 160.402 L2254.44 160.402 L2254.44 164.338 L2234.53 164.338 L2234.53 160.402 Z\" fill=\"#000000\" fill-rule=\"nonzero\" fill-opacity=\"1\" /><polyline clip-path=\"url(#clip190)\" style=\"stroke:#e26f46; stroke-linecap:round; stroke-linejoin:round; stroke-width:4; stroke-opacity:1; fill:none\" points=\"2029.96,198.898 2177.43,198.898 \"/>\n",
       "<path clip-path=\"url(#clip190)\" d=\"M2215.85 218.585 Q2214.05 223.215 2212.34 224.627 Q2210.62 226.039 2207.75 226.039 L2204.35 226.039 L2204.35 222.474 L2206.85 222.474 Q2208.61 222.474 2209.58 221.64 Q2210.55 220.807 2211.73 217.705 L2212.5 215.761 L2202.01 190.252 L2206.53 190.252 L2214.63 210.529 L2222.73 190.252 L2227.24 190.252 L2215.85 218.585 Z\" fill=\"#000000\" fill-rule=\"nonzero\" fill-opacity=\"1\" /><path clip-path=\"url(#clip190)\" d=\"M2237.75 212.242 L2254.07 212.242 L2254.07 216.178 L2232.13 216.178 L2232.13 212.242 Q2234.79 209.488 2239.37 204.858 Q2243.98 200.205 2245.16 198.863 Q2247.41 196.34 2248.28 194.604 Q2249.19 192.844 2249.19 191.155 Q2249.19 188.4 2247.24 186.664 Q2245.32 184.928 2242.22 184.928 Q2240.02 184.928 2237.57 185.692 Q2235.14 186.455 2232.36 188.006 L2232.36 183.284 Q2235.18 182.15 2237.64 181.571 Q2240.09 180.993 2242.13 180.993 Q2247.5 180.993 2250.69 183.678 Q2253.89 186.363 2253.89 190.854 Q2253.89 192.983 2253.08 194.905 Q2252.29 196.803 2250.18 199.395 Q2249.6 200.067 2246.5 203.284 Q2243.4 206.479 2237.75 212.242 Z\" fill=\"#000000\" fill-rule=\"nonzero\" fill-opacity=\"1\" /></svg>\n"
      ],
      "text/html": [
       "<?xml version=\"1.0\" encoding=\"utf-8\"?>\n",
       "<svg xmlns=\"http://www.w3.org/2000/svg\" xmlns:xlink=\"http://www.w3.org/1999/xlink\" width=\"600\" height=\"400\" viewBox=\"0 0 2400 1600\">\n",
       "<defs>\n",
       "  <clipPath id=\"clip240\">\n",
       "    <rect x=\"0\" y=\"0\" width=\"2400\" height=\"1600\"/>\n",
       "  </clipPath>\n",
       "</defs>\n",
       "<path clip-path=\"url(#clip240)\" d=\"M0 1600 L2400 1600 L2400 0 L0 0  Z\" fill=\"#ffffff\" fill-rule=\"evenodd\" fill-opacity=\"1\"/>\n",
       "<defs>\n",
       "  <clipPath id=\"clip241\">\n",
       "    <rect x=\"480\" y=\"0\" width=\"1681\" height=\"1600\"/>\n",
       "  </clipPath>\n",
       "</defs>\n",
       "<path clip-path=\"url(#clip240)\" d=\"M140.696 1486.45 L2352.76 1486.45 L2352.76 47.2441 L140.696 47.2441  Z\" fill=\"#ffffff\" fill-rule=\"evenodd\" fill-opacity=\"1\"/>\n",
       "<defs>\n",
       "  <clipPath id=\"clip242\">\n",
       "    <rect x=\"140\" y=\"47\" width=\"2213\" height=\"1440\"/>\n",
       "  </clipPath>\n",
       "</defs>\n",
       "<polyline clip-path=\"url(#clip242)\" style=\"stroke:#000000; stroke-linecap:round; stroke-linejoin:round; stroke-width:2; stroke-opacity:0.1; fill:none\" points=\"160.712,1486.45 160.712,47.2441 \"/>\n",
       "<polyline clip-path=\"url(#clip242)\" style=\"stroke:#000000; stroke-linecap:round; stroke-linejoin:round; stroke-width:2; stroke-opacity:0.1; fill:none\" points=\"586.6,1486.45 586.6,47.2441 \"/>\n",
       "<polyline clip-path=\"url(#clip242)\" style=\"stroke:#000000; stroke-linecap:round; stroke-linejoin:round; stroke-width:2; stroke-opacity:0.1; fill:none\" points=\"1012.49,1486.45 1012.49,47.2441 \"/>\n",
       "<polyline clip-path=\"url(#clip242)\" style=\"stroke:#000000; stroke-linecap:round; stroke-linejoin:round; stroke-width:2; stroke-opacity:0.1; fill:none\" points=\"1438.38,1486.45 1438.38,47.2441 \"/>\n",
       "<polyline clip-path=\"url(#clip242)\" style=\"stroke:#000000; stroke-linecap:round; stroke-linejoin:round; stroke-width:2; stroke-opacity:0.1; fill:none\" points=\"1864.26,1486.45 1864.26,47.2441 \"/>\n",
       "<polyline clip-path=\"url(#clip242)\" style=\"stroke:#000000; stroke-linecap:round; stroke-linejoin:round; stroke-width:2; stroke-opacity:0.1; fill:none\" points=\"2290.15,1486.45 2290.15,47.2441 \"/>\n",
       "<polyline clip-path=\"url(#clip240)\" style=\"stroke:#000000; stroke-linecap:round; stroke-linejoin:round; stroke-width:4; stroke-opacity:1; fill:none\" points=\"140.696,1486.45 2352.76,1486.45 \"/>\n",
       "<polyline clip-path=\"url(#clip240)\" style=\"stroke:#000000; stroke-linecap:round; stroke-linejoin:round; stroke-width:4; stroke-opacity:1; fill:none\" points=\"160.712,1486.45 160.712,1467.55 \"/>\n",
       "<polyline clip-path=\"url(#clip240)\" style=\"stroke:#000000; stroke-linecap:round; stroke-linejoin:round; stroke-width:4; stroke-opacity:1; fill:none\" points=\"586.6,1486.45 586.6,1467.55 \"/>\n",
       "<polyline clip-path=\"url(#clip240)\" style=\"stroke:#000000; stroke-linecap:round; stroke-linejoin:round; stroke-width:4; stroke-opacity:1; fill:none\" points=\"1012.49,1486.45 1012.49,1467.55 \"/>\n",
       "<polyline clip-path=\"url(#clip240)\" style=\"stroke:#000000; stroke-linecap:round; stroke-linejoin:round; stroke-width:4; stroke-opacity:1; fill:none\" points=\"1438.38,1486.45 1438.38,1467.55 \"/>\n",
       "<polyline clip-path=\"url(#clip240)\" style=\"stroke:#000000; stroke-linecap:round; stroke-linejoin:round; stroke-width:4; stroke-opacity:1; fill:none\" points=\"1864.26,1486.45 1864.26,1467.55 \"/>\n",
       "<polyline clip-path=\"url(#clip240)\" style=\"stroke:#000000; stroke-linecap:round; stroke-linejoin:round; stroke-width:4; stroke-opacity:1; fill:none\" points=\"2290.15,1486.45 2290.15,1467.55 \"/>\n",
       "<path clip-path=\"url(#clip240)\" d=\"M160.712 1517.37 Q157.101 1517.37 155.272 1520.93 Q153.467 1524.47 153.467 1531.6 Q153.467 1538.71 155.272 1542.27 Q157.101 1545.82 160.712 1545.82 Q164.347 1545.82 166.152 1542.27 Q167.981 1538.71 167.981 1531.6 Q167.981 1524.47 166.152 1520.93 Q164.347 1517.37 160.712 1517.37 M160.712 1513.66 Q166.522 1513.66 169.578 1518.27 Q172.657 1522.85 172.657 1531.6 Q172.657 1540.33 169.578 1544.94 Q166.522 1549.52 160.712 1549.52 Q154.902 1549.52 151.823 1544.94 Q148.768 1540.33 148.768 1531.6 Q148.768 1522.85 151.823 1518.27 Q154.902 1513.66 160.712 1513.66 Z\" fill=\"#000000\" fill-rule=\"nonzero\" fill-opacity=\"1\" /><path clip-path=\"url(#clip240)\" d=\"M561.288 1544.91 L568.926 1544.91 L568.926 1518.55 L560.616 1520.21 L560.616 1515.95 L568.88 1514.29 L573.556 1514.29 L573.556 1544.91 L581.195 1544.91 L581.195 1548.85 L561.288 1548.85 L561.288 1544.91 Z\" fill=\"#000000\" fill-rule=\"nonzero\" fill-opacity=\"1\" /><path clip-path=\"url(#clip240)\" d=\"M600.639 1517.37 Q597.028 1517.37 595.199 1520.93 Q593.394 1524.47 593.394 1531.6 Q593.394 1538.71 595.199 1542.27 Q597.028 1545.82 600.639 1545.82 Q604.273 1545.82 606.079 1542.27 Q607.908 1538.71 607.908 1531.6 Q607.908 1524.47 606.079 1520.93 Q604.273 1517.37 600.639 1517.37 M600.639 1513.66 Q606.449 1513.66 609.505 1518.27 Q612.584 1522.85 612.584 1531.6 Q612.584 1540.33 609.505 1544.94 Q606.449 1549.52 600.639 1549.52 Q594.829 1549.52 591.75 1544.94 Q588.695 1540.33 588.695 1531.6 Q588.695 1522.85 591.75 1518.27 Q594.829 1513.66 600.639 1513.66 Z\" fill=\"#000000\" fill-rule=\"nonzero\" fill-opacity=\"1\" /><path clip-path=\"url(#clip240)\" d=\"M991.261 1544.91 L1007.58 1544.91 L1007.58 1548.85 L985.636 1548.85 L985.636 1544.91 Q988.298 1542.16 992.881 1537.53 Q997.488 1532.88 998.668 1531.53 Q1000.91 1529.01 1001.79 1527.27 Q1002.7 1525.51 1002.7 1523.82 Q1002.7 1521.07 1000.75 1519.33 Q998.83 1517.6 995.728 1517.6 Q993.529 1517.6 991.076 1518.36 Q988.645 1519.13 985.867 1520.68 L985.867 1515.95 Q988.691 1514.82 991.145 1514.24 Q993.599 1513.66 995.636 1513.66 Q1001.01 1513.66 1004.2 1516.35 Q1007.39 1519.03 1007.39 1523.52 Q1007.39 1525.65 1006.58 1527.57 Q1005.8 1529.47 1003.69 1532.07 Q1003.11 1532.74 1000.01 1535.95 Q996.909 1539.15 991.261 1544.91 Z\" fill=\"#000000\" fill-rule=\"nonzero\" fill-opacity=\"1\" /><path clip-path=\"url(#clip240)\" d=\"M1027.39 1517.37 Q1023.78 1517.37 1021.96 1520.93 Q1020.15 1524.47 1020.15 1531.6 Q1020.15 1538.71 1021.96 1542.27 Q1023.78 1545.82 1027.39 1545.82 Q1031.03 1545.82 1032.83 1542.27 Q1034.66 1538.71 1034.66 1531.6 Q1034.66 1524.47 1032.83 1520.93 Q1031.03 1517.37 1027.39 1517.37 M1027.39 1513.66 Q1033.21 1513.66 1036.26 1518.27 Q1039.34 1522.85 1039.34 1531.6 Q1039.34 1540.33 1036.26 1544.94 Q1033.21 1549.52 1027.39 1549.52 Q1021.58 1549.52 1018.51 1544.94 Q1015.45 1540.33 1015.45 1531.6 Q1015.45 1522.85 1018.51 1518.27 Q1021.58 1513.66 1027.39 1513.66 Z\" fill=\"#000000\" fill-rule=\"nonzero\" fill-opacity=\"1\" /><path clip-path=\"url(#clip240)\" d=\"M1427.22 1530.21 Q1430.57 1530.93 1432.45 1533.2 Q1434.35 1535.47 1434.35 1538.8 Q1434.35 1543.92 1430.83 1546.72 Q1427.31 1549.52 1420.83 1549.52 Q1418.65 1549.52 1416.34 1549.08 Q1414.05 1548.66 1411.59 1547.81 L1411.59 1543.29 Q1413.54 1544.43 1415.85 1545.01 Q1418.17 1545.58 1420.69 1545.58 Q1425.09 1545.58 1427.38 1543.85 Q1429.69 1542.11 1429.69 1538.8 Q1429.69 1535.75 1427.54 1534.03 Q1425.41 1532.3 1421.59 1532.3 L1417.57 1532.3 L1417.57 1528.45 L1421.78 1528.45 Q1425.23 1528.45 1427.06 1527.09 Q1428.88 1525.7 1428.88 1523.11 Q1428.88 1520.45 1426.99 1519.03 Q1425.11 1517.6 1421.59 1517.6 Q1419.67 1517.6 1417.47 1518.01 Q1415.27 1518.43 1412.63 1519.31 L1412.63 1515.14 Q1415.3 1514.4 1417.61 1514.03 Q1419.95 1513.66 1422.01 1513.66 Q1427.33 1513.66 1430.44 1516.09 Q1433.54 1518.5 1433.54 1522.62 Q1433.54 1525.49 1431.89 1527.48 Q1430.25 1529.45 1427.22 1530.21 Z\" fill=\"#000000\" fill-rule=\"nonzero\" fill-opacity=\"1\" /><path clip-path=\"url(#clip240)\" d=\"M1453.21 1517.37 Q1449.6 1517.37 1447.77 1520.93 Q1445.97 1524.47 1445.97 1531.6 Q1445.97 1538.71 1447.77 1542.27 Q1449.6 1545.82 1453.21 1545.82 Q1456.85 1545.82 1458.65 1542.27 Q1460.48 1538.71 1460.48 1531.6 Q1460.48 1524.47 1458.65 1520.93 Q1456.85 1517.37 1453.21 1517.37 M1453.21 1513.66 Q1459.02 1513.66 1462.08 1518.27 Q1465.16 1522.85 1465.16 1531.6 Q1465.16 1540.33 1462.08 1544.94 Q1459.02 1549.52 1453.21 1549.52 Q1447.4 1549.52 1444.32 1544.94 Q1441.27 1540.33 1441.27 1531.6 Q1441.27 1522.85 1444.32 1518.27 Q1447.4 1513.66 1453.21 1513.66 Z\" fill=\"#000000\" fill-rule=\"nonzero\" fill-opacity=\"1\" /><path clip-path=\"url(#clip240)\" d=\"M1852.43 1518.36 L1840.63 1536.81 L1852.43 1536.81 L1852.43 1518.36 M1851.21 1514.29 L1857.09 1514.29 L1857.09 1536.81 L1862.02 1536.81 L1862.02 1540.7 L1857.09 1540.7 L1857.09 1548.85 L1852.43 1548.85 L1852.43 1540.7 L1836.83 1540.7 L1836.83 1536.19 L1851.21 1514.29 Z\" fill=\"#000000\" fill-rule=\"nonzero\" fill-opacity=\"1\" /><path clip-path=\"url(#clip240)\" d=\"M1879.75 1517.37 Q1876.14 1517.37 1874.31 1520.93 Q1872.5 1524.47 1872.5 1531.6 Q1872.5 1538.71 1874.31 1542.27 Q1876.14 1545.82 1879.75 1545.82 Q1883.38 1545.82 1885.19 1542.27 Q1887.02 1538.71 1887.02 1531.6 Q1887.02 1524.47 1885.19 1520.93 Q1883.38 1517.37 1879.75 1517.37 M1879.75 1513.66 Q1885.56 1513.66 1888.61 1518.27 Q1891.69 1522.85 1891.69 1531.6 Q1891.69 1540.33 1888.61 1544.94 Q1885.56 1549.52 1879.75 1549.52 Q1873.94 1549.52 1870.86 1544.94 Q1867.8 1540.33 1867.8 1531.6 Q1867.8 1522.85 1870.86 1518.27 Q1873.94 1513.66 1879.75 1513.66 Z\" fill=\"#000000\" fill-rule=\"nonzero\" fill-opacity=\"1\" /><path clip-path=\"url(#clip240)\" d=\"M2264.85 1514.29 L2283.21 1514.29 L2283.21 1518.22 L2269.13 1518.22 L2269.13 1526.7 Q2270.15 1526.35 2271.17 1526.19 Q2272.19 1526 2273.21 1526 Q2278.99 1526 2282.37 1529.17 Q2285.75 1532.34 2285.75 1537.76 Q2285.75 1543.34 2282.28 1546.44 Q2278.81 1549.52 2272.49 1549.52 Q2270.31 1549.52 2268.04 1549.15 Q2265.8 1548.78 2263.39 1548.04 L2263.39 1543.34 Q2265.47 1544.47 2267.7 1545.03 Q2269.92 1545.58 2272.4 1545.58 Q2276.4 1545.58 2278.74 1543.48 Q2281.08 1541.37 2281.08 1537.76 Q2281.08 1534.15 2278.74 1532.04 Q2276.4 1529.94 2272.4 1529.94 Q2270.52 1529.94 2268.65 1530.35 Q2266.79 1530.77 2264.85 1531.65 L2264.85 1514.29 Z\" fill=\"#000000\" fill-rule=\"nonzero\" fill-opacity=\"1\" /><path clip-path=\"url(#clip240)\" d=\"M2304.97 1517.37 Q2301.35 1517.37 2299.53 1520.93 Q2297.72 1524.47 2297.72 1531.6 Q2297.72 1538.71 2299.53 1542.27 Q2301.35 1545.82 2304.97 1545.82 Q2308.6 1545.82 2310.4 1542.27 Q2312.23 1538.71 2312.23 1531.6 Q2312.23 1524.47 2310.4 1520.93 Q2308.6 1517.37 2304.97 1517.37 M2304.97 1513.66 Q2310.78 1513.66 2313.83 1518.27 Q2316.91 1522.85 2316.91 1531.6 Q2316.91 1540.33 2313.83 1544.94 Q2310.78 1549.52 2304.97 1549.52 Q2299.16 1549.52 2296.08 1544.94 Q2293.02 1540.33 2293.02 1531.6 Q2293.02 1522.85 2296.08 1518.27 Q2299.16 1513.66 2304.97 1513.66 Z\" fill=\"#000000\" fill-rule=\"nonzero\" fill-opacity=\"1\" /><polyline clip-path=\"url(#clip242)\" style=\"stroke:#000000; stroke-linecap:round; stroke-linejoin:round; stroke-width:2; stroke-opacity:0.1; fill:none\" points=\"140.696,1448.75 2352.76,1448.75 \"/>\n",
       "<polyline clip-path=\"url(#clip242)\" style=\"stroke:#000000; stroke-linecap:round; stroke-linejoin:round; stroke-width:2; stroke-opacity:0.1; fill:none\" points=\"140.696,1183.1 2352.76,1183.1 \"/>\n",
       "<polyline clip-path=\"url(#clip242)\" style=\"stroke:#000000; stroke-linecap:round; stroke-linejoin:round; stroke-width:2; stroke-opacity:0.1; fill:none\" points=\"140.696,917.446 2352.76,917.446 \"/>\n",
       "<polyline clip-path=\"url(#clip242)\" style=\"stroke:#000000; stroke-linecap:round; stroke-linejoin:round; stroke-width:2; stroke-opacity:0.1; fill:none\" points=\"140.696,651.793 2352.76,651.793 \"/>\n",
       "<polyline clip-path=\"url(#clip242)\" style=\"stroke:#000000; stroke-linecap:round; stroke-linejoin:round; stroke-width:2; stroke-opacity:0.1; fill:none\" points=\"140.696,386.141 2352.76,386.141 \"/>\n",
       "<polyline clip-path=\"url(#clip242)\" style=\"stroke:#000000; stroke-linecap:round; stroke-linejoin:round; stroke-width:2; stroke-opacity:0.1; fill:none\" points=\"140.696,120.488 2352.76,120.488 \"/>\n",
       "<polyline clip-path=\"url(#clip240)\" style=\"stroke:#000000; stroke-linecap:round; stroke-linejoin:round; stroke-width:4; stroke-opacity:1; fill:none\" points=\"140.696,1486.45 140.696,47.2441 \"/>\n",
       "<polyline clip-path=\"url(#clip240)\" style=\"stroke:#000000; stroke-linecap:round; stroke-linejoin:round; stroke-width:4; stroke-opacity:1; fill:none\" points=\"140.696,1448.75 159.593,1448.75 \"/>\n",
       "<polyline clip-path=\"url(#clip240)\" style=\"stroke:#000000; stroke-linecap:round; stroke-linejoin:round; stroke-width:4; stroke-opacity:1; fill:none\" points=\"140.696,1183.1 159.593,1183.1 \"/>\n",
       "<polyline clip-path=\"url(#clip240)\" style=\"stroke:#000000; stroke-linecap:round; stroke-linejoin:round; stroke-width:4; stroke-opacity:1; fill:none\" points=\"140.696,917.446 159.593,917.446 \"/>\n",
       "<polyline clip-path=\"url(#clip240)\" style=\"stroke:#000000; stroke-linecap:round; stroke-linejoin:round; stroke-width:4; stroke-opacity:1; fill:none\" points=\"140.696,651.793 159.593,651.793 \"/>\n",
       "<polyline clip-path=\"url(#clip240)\" style=\"stroke:#000000; stroke-linecap:round; stroke-linejoin:round; stroke-width:4; stroke-opacity:1; fill:none\" points=\"140.696,386.141 159.593,386.141 \"/>\n",
       "<polyline clip-path=\"url(#clip240)\" style=\"stroke:#000000; stroke-linecap:round; stroke-linejoin:round; stroke-width:4; stroke-opacity:1; fill:none\" points=\"140.696,120.488 159.593,120.488 \"/>\n",
       "<path clip-path=\"url(#clip240)\" d=\"M92.7512 1434.55 Q89.1401 1434.55 87.3114 1438.11 Q85.5058 1441.66 85.5058 1448.79 Q85.5058 1455.89 87.3114 1459.46 Q89.1401 1463 92.7512 1463 Q96.3854 1463 98.1909 1459.46 Q100.02 1455.89 100.02 1448.79 Q100.02 1441.66 98.1909 1438.11 Q96.3854 1434.55 92.7512 1434.55 M92.7512 1430.85 Q98.5613 1430.85 101.617 1435.45 Q104.696 1440.04 104.696 1448.79 Q104.696 1457.51 101.617 1462.12 Q98.5613 1466.7 92.7512 1466.7 Q86.941 1466.7 83.8623 1462.12 Q80.8068 1457.51 80.8068 1448.79 Q80.8068 1440.04 83.8623 1435.45 Q86.941 1430.85 92.7512 1430.85 Z\" fill=\"#000000\" fill-rule=\"nonzero\" fill-opacity=\"1\" /><path clip-path=\"url(#clip240)\" d=\"M83.7929 1165.82 L102.149 1165.82 L102.149 1169.75 L88.0753 1169.75 L88.0753 1178.23 Q89.0938 1177.88 90.1123 1177.72 Q91.1308 1177.53 92.1493 1177.53 Q97.9363 1177.53 101.316 1180.7 Q104.696 1183.87 104.696 1189.29 Q104.696 1194.87 101.223 1197.97 Q97.7511 1201.05 91.4317 1201.05 Q89.2558 1201.05 86.9873 1200.68 Q84.7419 1200.31 82.3346 1199.57 L82.3346 1194.87 Q84.4179 1196 86.6401 1196.56 Q88.8623 1197.11 91.3391 1197.11 Q95.3437 1197.11 97.6817 1195.01 Q100.02 1192.9 100.02 1189.29 Q100.02 1185.68 97.6817 1183.57 Q95.3437 1181.47 91.3391 1181.47 Q89.4641 1181.47 87.5892 1181.88 Q85.7373 1182.3 83.7929 1183.18 L83.7929 1165.82 Z\" fill=\"#000000\" fill-rule=\"nonzero\" fill-opacity=\"1\" /><path clip-path=\"url(#clip240)\" d=\"M53.3995 930.791 L61.0384 930.791 L61.0384 904.425 L52.7282 906.092 L52.7282 901.833 L60.9921 900.166 L65.668 900.166 L65.668 930.791 L73.3068 930.791 L73.3068 934.726 L53.3995 934.726 L53.3995 930.791 Z\" fill=\"#000000\" fill-rule=\"nonzero\" fill-opacity=\"1\" /><path clip-path=\"url(#clip240)\" d=\"M92.7512 903.245 Q89.1401 903.245 87.3114 906.809 Q85.5058 910.351 85.5058 917.481 Q85.5058 924.587 87.3114 928.152 Q89.1401 931.693 92.7512 931.693 Q96.3854 931.693 98.1909 928.152 Q100.02 924.587 100.02 917.481 Q100.02 910.351 98.1909 906.809 Q96.3854 903.245 92.7512 903.245 M92.7512 899.541 Q98.5613 899.541 101.617 904.147 Q104.696 908.731 104.696 917.481 Q104.696 926.207 101.617 930.814 Q98.5613 935.397 92.7512 935.397 Q86.941 935.397 83.8623 930.814 Q80.8068 926.207 80.8068 917.481 Q80.8068 908.731 83.8623 904.147 Q86.941 899.541 92.7512 899.541 Z\" fill=\"#000000\" fill-rule=\"nonzero\" fill-opacity=\"1\" /><path clip-path=\"url(#clip240)\" d=\"M54.3949 665.138 L62.0337 665.138 L62.0337 638.772 L53.7236 640.439 L53.7236 636.18 L61.9874 634.513 L66.6633 634.513 L66.6633 665.138 L74.3022 665.138 L74.3022 669.073 L54.3949 669.073 L54.3949 665.138 Z\" fill=\"#000000\" fill-rule=\"nonzero\" fill-opacity=\"1\" /><path clip-path=\"url(#clip240)\" d=\"M83.7929 634.513 L102.149 634.513 L102.149 638.448 L88.0753 638.448 L88.0753 646.921 Q89.0938 646.573 90.1123 646.411 Q91.1308 646.226 92.1493 646.226 Q97.9363 646.226 101.316 649.397 Q104.696 652.569 104.696 657.985 Q104.696 663.564 101.223 666.666 Q97.7511 669.745 91.4317 669.745 Q89.2558 669.745 86.9873 669.374 Q84.7419 669.004 82.3346 668.263 L82.3346 663.564 Q84.4179 664.698 86.6401 665.254 Q88.8623 665.809 91.3391 665.809 Q95.3437 665.809 97.6817 663.703 Q100.02 661.596 100.02 657.985 Q100.02 654.374 97.6817 652.268 Q95.3437 650.161 91.3391 650.161 Q89.4641 650.161 87.5892 650.578 Q85.7373 650.995 83.7929 651.874 L83.7929 634.513 Z\" fill=\"#000000\" fill-rule=\"nonzero\" fill-opacity=\"1\" /><path clip-path=\"url(#clip240)\" d=\"M56.6171 399.485 L72.9365 399.485 L72.9365 403.421 L50.9921 403.421 L50.9921 399.485 Q53.6541 396.731 58.2375 392.101 Q62.8439 387.448 64.0245 386.106 Q66.2698 383.583 67.1494 381.847 Q68.0522 380.087 68.0522 378.398 Q68.0522 375.643 66.1078 373.907 Q64.1865 372.171 61.0847 372.171 Q58.8856 372.171 56.4319 372.935 Q54.0014 373.699 51.2236 375.249 L51.2236 370.527 Q54.0477 369.393 56.5014 368.814 Q58.955 368.236 60.9921 368.236 Q66.3624 368.236 69.5568 370.921 Q72.7513 373.606 72.7513 378.097 Q72.7513 380.226 71.9411 382.148 Q71.1541 384.046 69.0476 386.638 Q68.4689 387.31 65.367 390.527 Q62.2652 393.722 56.6171 399.485 Z\" fill=\"#000000\" fill-rule=\"nonzero\" fill-opacity=\"1\" /><path clip-path=\"url(#clip240)\" d=\"M92.7512 371.939 Q89.1401 371.939 87.3114 375.504 Q85.5058 379.046 85.5058 386.175 Q85.5058 393.282 87.3114 396.847 Q89.1401 400.388 92.7512 400.388 Q96.3854 400.388 98.1909 396.847 Q100.02 393.282 100.02 386.175 Q100.02 379.046 98.1909 375.504 Q96.3854 371.939 92.7512 371.939 M92.7512 368.236 Q98.5613 368.236 101.617 372.842 Q104.696 377.425 104.696 386.175 Q104.696 394.902 101.617 399.509 Q98.5613 404.092 92.7512 404.092 Q86.941 404.092 83.8623 399.509 Q80.8068 394.902 80.8068 386.175 Q80.8068 377.425 83.8623 372.842 Q86.941 368.236 92.7512 368.236 Z\" fill=\"#000000\" fill-rule=\"nonzero\" fill-opacity=\"1\" /><path clip-path=\"url(#clip240)\" d=\"M57.6125 133.833 L73.9318 133.833 L73.9318 137.768 L51.9875 137.768 L51.9875 133.833 Q54.6495 131.078 59.2328 126.449 Q63.8393 121.796 65.0198 120.453 Q67.2652 117.93 68.1448 116.194 Q69.0476 114.435 69.0476 112.745 Q69.0476 109.99 67.1032 108.254 Q65.1819 106.518 62.08 106.518 Q59.881 106.518 57.4273 107.282 Q54.9967 108.046 52.219 109.597 L52.219 104.875 Q55.043 103.74 57.4967 103.162 Q59.9504 102.583 61.9874 102.583 Q67.3578 102.583 70.5522 105.268 Q73.7466 107.953 73.7466 112.444 Q73.7466 114.574 72.9365 116.495 Q72.1494 118.393 70.0429 120.986 Q69.4642 121.657 66.3624 124.875 Q63.2606 128.069 57.6125 133.833 Z\" fill=\"#000000\" fill-rule=\"nonzero\" fill-opacity=\"1\" /><path clip-path=\"url(#clip240)\" d=\"M83.7929 103.208 L102.149 103.208 L102.149 107.143 L88.0753 107.143 L88.0753 115.615 Q89.0938 115.268 90.1123 115.106 Q91.1308 114.921 92.1493 114.921 Q97.9363 114.921 101.316 118.092 Q104.696 121.263 104.696 126.68 Q104.696 132.259 101.223 135.361 Q97.7511 138.439 91.4317 138.439 Q89.2558 138.439 86.9873 138.069 Q84.7419 137.699 82.3346 136.958 L82.3346 132.259 Q84.4179 133.393 86.6401 133.949 Q88.8623 134.504 91.3391 134.504 Q95.3437 134.504 97.6817 132.398 Q100.02 130.291 100.02 126.68 Q100.02 123.069 97.6817 120.963 Q95.3437 118.856 91.3391 118.856 Q89.4641 118.856 87.5892 119.273 Q85.7373 119.689 83.7929 120.569 L83.7929 103.208 Z\" fill=\"#000000\" fill-rule=\"nonzero\" fill-opacity=\"1\" /><polyline clip-path=\"url(#clip242)\" style=\"stroke:#009af9; stroke-linecap:round; stroke-linejoin:round; stroke-width:4; stroke-opacity:1; fill:none\" points=\"203.301,136.249 245.89,1240.51 288.479,1252.15 331.067,1262.38 373.656,1272.89 416.245,1280.36 458.834,1282.61 501.422,1283.97 544.011,1287.43 586.6,1289.81 629.189,1298.77 671.777,1303.67 714.366,1307.61 756.955,1310.18 799.544,1316.28 842.132,1318.93 884.721,1324.24 927.31,1329.53 969.899,1331.27 1012.49,1333.84 1055.08,1338.6 1097.67,1345.8 1140.25,1354.08 1182.84,1356.73 1225.43,1360.4 1268.02,1364.82 1310.61,1366.44 1353.2,1366.98 1395.79,1374.68 1438.38,1378.62 1480.96,1382.83 1523.55,1383.36 1566.14,1388.73 1608.73,1388.86 1651.32,1395.78 1693.91,1397.71 1736.5,1399.5 1779.09,1405.27 1821.67,1406.42 1864.26,1412.78 1906.85,1418.49 1949.44,1419.77 1992.03,1423.66 2034.62,1425.45 2077.21,1429.98 2119.8,1433.47 2162.38,1435 2204.97,1436.85 2247.56,1442.31 2290.15,1445.51 \"/>\n",
       "<polyline clip-path=\"url(#clip242)\" style=\"stroke:#e26f46; stroke-linecap:round; stroke-linejoin:round; stroke-width:4; stroke-opacity:1; fill:none\" points=\"203.301,87.9763 245.89,1240.42 288.479,1252.34 331.067,1262.26 373.656,1272.88 416.245,1280.05 458.834,1282.12 501.422,1282.74 544.011,1287.36 586.6,1289.67 629.189,1298.78 671.777,1303.57 714.366,1307.46 756.955,1310.05 799.544,1316.44 842.132,1319.51 884.721,1324.41 927.31,1329.39 969.899,1331.25 1012.49,1333.91 1055.08,1338.29 1097.67,1345.74 1140.25,1353.97 1182.84,1357.29 1225.43,1360.4 1268.02,1364.78 1310.61,1366.06 1353.2,1367.73 1395.79,1374.49 1438.38,1378.86 1480.96,1383.03 1523.55,1383.33 1566.14,1388.83 1608.73,1389.02 1651.32,1395.43 1693.91,1397.4 1736.5,1399.62 1779.09,1405.34 1821.67,1406.95 1864.26,1412.84 1906.85,1417.96 1949.44,1419.9 1992.03,1423.89 2034.62,1425.55 2077.21,1429.47 2119.8,1433.47 2162.38,1435.02 2204.97,1436.81 2247.56,1442.31 2290.15,1445.72 \"/>\n",
       "<path clip-path=\"url(#clip240)\" d=\"M2005.38 250.738 L2279.02 250.738 L2279.02 95.2176 L2005.38 95.2176  Z\" fill=\"#ffffff\" fill-rule=\"evenodd\" fill-opacity=\"1\"/>\n",
       "<polyline clip-path=\"url(#clip240)\" style=\"stroke:#000000; stroke-linecap:round; stroke-linejoin:round; stroke-width:4; stroke-opacity:1; fill:none\" points=\"2005.38,250.738 2279.02,250.738 2279.02,95.2176 2005.38,95.2176 2005.38,250.738 \"/>\n",
       "<polyline clip-path=\"url(#clip240)\" style=\"stroke:#009af9; stroke-linecap:round; stroke-linejoin:round; stroke-width:4; stroke-opacity:1; fill:none\" points=\"2029.96,147.058 2177.43,147.058 \"/>\n",
       "<path clip-path=\"url(#clip240)\" d=\"M2215.85 166.745 Q2214.05 171.375 2212.34 172.787 Q2210.62 174.199 2207.75 174.199 L2204.35 174.199 L2204.35 170.634 L2206.85 170.634 Q2208.61 170.634 2209.58 169.8 Q2210.55 168.967 2211.73 165.865 L2212.5 163.921 L2202.01 138.412 L2206.53 138.412 L2214.63 158.689 L2222.73 138.412 L2227.24 138.412 L2215.85 166.745 Z\" fill=\"#000000\" fill-rule=\"nonzero\" fill-opacity=\"1\" /><path clip-path=\"url(#clip240)\" d=\"M2234.53 160.402 L2242.17 160.402 L2242.17 134.037 L2233.86 135.703 L2233.86 131.444 L2242.13 129.778 L2246.8 129.778 L2246.8 160.402 L2254.44 160.402 L2254.44 164.338 L2234.53 164.338 L2234.53 160.402 Z\" fill=\"#000000\" fill-rule=\"nonzero\" fill-opacity=\"1\" /><polyline clip-path=\"url(#clip240)\" style=\"stroke:#e26f46; stroke-linecap:round; stroke-linejoin:round; stroke-width:4; stroke-opacity:1; fill:none\" points=\"2029.96,198.898 2177.43,198.898 \"/>\n",
       "<path clip-path=\"url(#clip240)\" d=\"M2215.85 218.585 Q2214.05 223.215 2212.34 224.627 Q2210.62 226.039 2207.75 226.039 L2204.35 226.039 L2204.35 222.474 L2206.85 222.474 Q2208.61 222.474 2209.58 221.64 Q2210.55 220.807 2211.73 217.705 L2212.5 215.761 L2202.01 190.252 L2206.53 190.252 L2214.63 210.529 L2222.73 190.252 L2227.24 190.252 L2215.85 218.585 Z\" fill=\"#000000\" fill-rule=\"nonzero\" fill-opacity=\"1\" /><path clip-path=\"url(#clip240)\" d=\"M2237.75 212.242 L2254.07 212.242 L2254.07 216.178 L2232.13 216.178 L2232.13 212.242 Q2234.79 209.488 2239.37 204.858 Q2243.98 200.205 2245.16 198.863 Q2247.41 196.34 2248.28 194.604 Q2249.19 192.844 2249.19 191.155 Q2249.19 188.4 2247.24 186.664 Q2245.32 184.928 2242.22 184.928 Q2240.02 184.928 2237.57 185.692 Q2235.14 186.455 2232.36 188.006 L2232.36 183.284 Q2235.18 182.15 2237.64 181.571 Q2240.09 180.993 2242.13 180.993 Q2247.5 180.993 2250.69 183.678 Q2253.89 186.363 2253.89 190.854 Q2253.89 192.983 2253.08 194.905 Q2252.29 196.803 2250.18 199.395 Q2249.6 200.067 2246.5 203.284 Q2243.4 206.479 2237.75 212.242 Z\" fill=\"#000000\" fill-rule=\"nonzero\" fill-opacity=\"1\" /></svg>\n"
      ]
     },
     "execution_count": 5,
     "metadata": {},
     "output_type": "execute_result"
    }
   ],
   "source": [
    "using LinearAlgebra, Plots\n",
    "#Define dark and light matrices\n",
    "F = rand(50,50)\n",
    "G = rand(50,50)\n",
    "D_F = ones(50,50)-F\n",
    "D_G = ones(50,50)-G\n",
    "# Perform SVD\n",
    "H = svd(F)\n",
    "H_D = svd(D_F)\n",
    "V_F = H.S\n",
    "V_D_F = H_D.S\n",
    "\n",
    "\n",
    "plot(V_F);plot!(V_D_F)"
   ]
  },
  {
   "cell_type": "markdown",
   "id": "2a292fb4-275c-4550-bd2a-12d61c31e183",
   "metadata": {},
   "source": [
    "A similaridade entre as imagens em light e dark mode se traduz nos valores singulares porque eles simbolizam a quantidade de informação em cada uma das matrizes de posto 1 que compoem a imagem original - como a imagem é praticamente a mesma, apenas as cores se invertem, grande parte da informação é exatamente igual."
   ]
  },
  {
   "attachments": {},
   "cell_type": "markdown",
   "id": "bf09106c-93ea-4f91-81b0-02dc52df8ca2",
   "metadata": {},
   "source": [
    "\n",
    "\n",
    "# M2. (Compressão de imagens via SVD, posto baixo, etc.: Bandeiras dos países)[Exercício do livro \"Linear Algebra for Everyone\", Gilbert Strang, p. 269] Pesquise imagens das bandeiras nacionais de 20 países na Internet com padrões simples (p.ex. algumas listras/faixas, faixas diagonais, cruzes, e sem círculos, luas crescentes (imagens curvilíneas)). Discute o posto de cada bandeira (imagem grayscale), o posto, o posto aproximado e os valores singulares, relacionando suas conclusões com os padrões das bandeiras.\n",
    "\n"
   ]
  },
  {
   "cell_type": "markdown",
   "id": "222172d5-73d7-4663-9563-69c8dfae543f",
   "metadata": {},
   "source": [
    "# Padrões simples geram bandeiras de posto baixo, visto que é possivel codificar a informação necessária para reconstruir a bandeira em uma decomposição adequada, especialmente ao compor a imagem como uma soma de matrizes de posto baixo. Proponho uma solução simplificada utilizando vetores de zeros e uns para codificar os padroes das bandeiras e vetores com possíveis \"valores singulares\" para codificar as cores com valores arbitrários (ex:2 ate 10) #\n",
    "# Dos exemplos abaixo, vemos que as bandeiras representadas possuem posto 1 ou (n+1/2) (para a diagonal dupla) ou podem ser codificadas por um unico escalar multiplicando uma matriz identidade #"
   ]
  },
  {
   "cell_type": "code",
   "execution_count": 5,
   "id": "5bcc1470-cf63-4820-9086-6f558506e144",
   "metadata": {},
   "outputs": [
    {
     "data": {
      "text/plain": [
       "3×3 Matrix{Int64}:\n",
       " 2  4  8\n",
       " 2  4  8\n",
       " 2  4  8"
      ]
     },
     "metadata": {},
     "output_type": "display_data"
    },
    {
     "data": {
      "text/plain": [
       "3×3 Matrix{Int64}:\n",
       " 2  2  2\n",
       " 4  4  4\n",
       " 8  8  8"
      ]
     },
     "metadata": {},
     "output_type": "display_data"
    },
    {
     "data": {
      "text/plain": [
       "3×3 Matrix{Int64}:\n",
       " 4  0  0\n",
       " 0  4  0\n",
       " 0  0  4"
      ]
     },
     "metadata": {},
     "output_type": "display_data"
    },
    {
     "data": {
      "text/plain": [
       "3×3 Matrix{Int64}:\n",
       " 7  0  7\n",
       " 0  7  0\n",
       " 7  0  7"
      ]
     },
     "metadata": {},
     "output_type": "display_data"
    },
    {
     "name": "stdout",
     "output_type": "stream",
     "text": [
      "Original Pattern Matrix:\n"
     ]
    },
    {
     "data": {
      "text/plain": [
       "6×6 Matrix{Int64}:\n",
       " 6  6  0  0  0  0\n",
       " 6  6  6  0  0  0\n",
       " 0  6  6  6  0  0\n",
       " 0  0  6  6  6  0\n",
       " 0  0  0  6  6  6\n",
       " 0  0  0  0  6  6"
      ]
     },
     "metadata": {},
     "output_type": "display_data"
    },
    {
     "name": "stdout",
     "output_type": "stream",
     "text": [
      "Low-Rank Approximation (k=5) with all columns shown:\n",
      "6×6 Matrix{Float64}:\n",
      "  6.2588     5.67728    0.143625   0.143625  -0.322723   0.258804\n",
      "  5.67728    6.40243    5.8209    -0.179098   0.402429  -0.322723\n",
      "  0.143625   5.8209     6.07971    6.07971   -0.179098   0.143625\n",
      "  0.143625  -0.179098   6.07971    6.07971    5.8209     0.143625\n",
      " -0.322723   0.402429  -0.179098   5.8209     6.40243    5.67728\n",
      "  0.258804  -0.322723   0.143625   0.143625   5.67728    6.2588"
     ]
    },
    {
     "data": {
      "text/plain": [
       "6-element Vector{Float64}:\n",
       " 16.811626414829025\n",
       " 13.481877622304806\n",
       "  8.670251207475774\n",
       "  4.8116264148290275\n",
       "  3.3297487925242253\n",
       "  1.4818776223048005"
      ]
     },
     "metadata": {},
     "output_type": "display_data"
    }
   ],
   "source": [
    "using LinearAlgebra\n",
    "\n",
    "# bandeiras de listras verticais\n",
    "C_v = [1; 1; 1]\n",
    "R_v = [2 4 8] # mudar os valores de acordo com a codificação\n",
    "display(C_v * R_v)\n",
    "\n",
    "#bandeiras de listras horizontais - invertendo a ordem da multiplicação para a multiplicação correta\n",
    "C_h = [1 1 1]\n",
    "R_h = [2; 4; 8]\n",
    "display(R_h * C_h)\n",
    "\n",
    "#bandeiras diagonais - usando estruturas simples e um escalar\n",
    "Id = Matrix(1I,3,3)\n",
    "D = 4*Id\n",
    "display(D)\n",
    "\n",
    "#diagonal dupla - usando a estrutura CR novamente\n",
    "C_dd = [1 0;\n",
    "    0 1;\n",
    "    1 0;]\n",
    "R_dd = [ 7 0 7;\n",
    "    0 7 0]\n",
    "display(C_dd * R_dd)\n",
    "\n",
    "#diagonais em dimensões maiores\n",
    "#é necessário o uso da SVD\n",
    "Diag = [6 6 0 0 0 0;\n",
    "    6 6 6 0 0 0;\n",
    "    0 6 6 6 0 0;\n",
    "    0 0 6 6 6 0;\n",
    "    0 0 0 6 6 6;\n",
    "    0 0 0 0 6 6;]\n",
    "U, S, V = svd(Diag)\n",
    "A = zeros(size(Diag))\n",
    "k = 5 #ajustar quantos valores singulares usar na aproximação\n",
    "for i in 1:k\n",
    "        A += S[i] * U[:, i] * V[:, i]'\n",
    "end\n",
    "\n",
    "println(\"Original Pattern Matrix:\")\n",
    "display(Diag)\n",
    "\n",
    "# Ensure full display of matrices\n",
    "println(\"Low-Rank Approximation (k=$k) with all columns shown:\")\n",
    "io = IOContext(stdout, :limit => false)\n",
    "show(io, \"text/plain\", A)\n",
    "display(S)"
   ]
  },
  {
   "cell_type": "markdown",
   "id": "31a8f012-5da7-40c0-8930-7b45e633c410",
   "metadata": {},
   "source": [
    "#  M3. (Energia Dirichlet de um sinal e aplicação a grafos) Considere o vetor $x \\in {\\mathbb R}^T$ que representa uma série temporal ou sinal de duração finita $(T)$. A grandeza\n",
    "## $$ D(x) = (x_1 - x_2)^2 + \\cdots + (x_{T-1} - x_T)^2 ,$$\n",
    "## que é a soma das diferenças entre termos adjacentes da série, é denominada energia Dirichlet do sinal (da série). Ela mede o comportamento oscilatório da série. Escreve $D(x)$ em notação vetorial. Quais sinais $x$ minimizam $D(x)$? Qual $x$ com $\\|x\\|_{\\infty} \\leq 1$ maximiza $D(x)$ e qual o valor de $D(x)$ que este sinal atinge? Considere um grafo cujos $n$ nós representam $n$ pessoas, e cujas arestas representam relações (de amizade, p.ex.) entre as pessoas correspondentes. Seja $v = (v_i) \\in {\\mathbb R}^n$, sendo $v_i$ é uma grandeza associada ao nó $i$ (pessoa $i$) [por exemplo, idade, nível educacional em anos, etc.] Seja $D(v)$ a energia Dirichlet associada com o grafo. Quando você estimaria que a energia $D(v)$ é grande/pequena? A pergunta é intencionalmente vaga e não há resposta certa. Investigue, faça conjecturas e tente explicar suas observações."
   ]
  },
  {
   "cell_type": "markdown",
   "id": "7d769f17-8d0e-496e-b82d-af984c059024",
   "metadata": {},
   "source": [
    " A forma matricial pode ser representada como $x^tA^tAx$, onde $\\vec{x} = [x1 \\space x2 \\space ... \\space x_n]$ e $A = \\begin{bmatrix} -1 & 1 & 0 & ... & 0 \\\\ 0 & -1 & 1 & 0 & ... 0 \\end{bmatrix}, A \\in {\\mathcal R}^{(n-1) \\times n}$ e $x$ tendo $n$ elementos \n",
    "\n",
    "Levando a: $$\\begin{bmatrix}x1 & x2 & ... & xn\\end{bmatrix} \\begin{bmatrix} 1 & -1 & 0 & 0 &... \\\\ -1 & 2 & -1 & 0 &... \\\\ 0 & -1 & 2 & -1 & ... \\\\ ... & ...& ... & ... & ... \\\\ ... & 0 & 0 & -1 & 1 \\end{bmatrix} \\begin{bmatrix} x1 \\\\ x2 \\\\ ... \\\\ x_n \\end{bmatrix}$$"
   ]
  },
  {
   "cell_type": "code",
   "execution_count": 125,
   "id": "a8703a8d-df21-4d1c-a124-49b96bfe534d",
   "metadata": {},
   "outputs": [
    {
     "name": "stdout",
     "output_type": "stream",
     "text": [
      "This is Ipopt version 3.14.14, running with linear solver MUMPS 5.6.2.\n",
      "\n",
      "Number of nonzeros in equality constraint Jacobian...:        0\n",
      "Number of nonzeros in inequality constraint Jacobian.:       12\n",
      "Number of nonzeros in Lagrangian Hessian.............:       11\n",
      "\n",
      "Total number of variables............................:        4\n",
      "                     variables with only lower bounds:        0\n",
      "                variables with lower and upper bounds:        0\n",
      "                     variables with only upper bounds:        0\n",
      "Total number of equality constraints.................:        0\n",
      "Total number of inequality constraints...............:        9\n",
      "        inequality constraints with only lower bounds:        5\n",
      "   inequality constraints with lower and upper bounds:        0\n",
      "        inequality constraints with only upper bounds:        4\n",
      "\n",
      "iter    objective    inf_pr   inf_du lg(mu)  ||d||  lg(rg) alpha_du alpha_pr  ls\n",
      "   0  2.7674000e+00 0.00e+00 2.19e+00  -1.0 0.00e+00    -  0.00e+00 0.00e+00   0\n",
      "   1  5.9578547e+00 0.00e+00 1.89e+00  -1.0 2.09e+00   0.0 4.46e-01 3.22e-01f  1\n",
      "   2  8.3808325e+00 0.00e+00 3.89e+00  -1.0 7.01e+00  -0.5 2.47e-01 5.71e-02f  1\n",
      "   3  1.0313916e+01 0.00e+00 1.73e+00  -1.0 7.33e-01  -0.1 5.84e-01 1.00e+00f  1\n",
      "   4  1.0248234e+01 0.00e+00 2.96e+00  -1.0 1.25e+00   0.4 1.00e+00 1.00e+00h  1\n",
      "   5  1.1571464e+01 0.00e+00 3.76e+00  -1.0 1.59e+00  -0.1 1.00e+00 2.27e-01f  1\n",
      "   6  1.1481838e+01 0.00e+00 1.00e-06  -1.0 5.82e-02    -  1.00e+00 1.00e+00f  1\n",
      "   7  1.1925752e+01 0.00e+00 2.00e-07  -1.7 9.24e-02    -  1.00e+00 1.00e+00f  1\n",
      "   8  1.1999442e+01 0.00e+00 1.50e-09  -3.8 1.37e-02    -  1.00e+00 1.00e+00f  1\n",
      "   9  1.1999993e+01 0.00e+00 1.84e-11  -5.7 1.06e-04    -  1.00e+00 1.00e+00f  1\n",
      "iter    objective    inf_pr   inf_du lg(mu)  ||d||  lg(rg) alpha_du alpha_pr  ls\n",
      "  10  1.2000000e+01 0.00e+00 2.58e-14  -8.6 1.38e-06    -  1.00e+00 1.00e+00f  1\n",
      "\n",
      "Number of Iterations....: 10\n",
      "\n",
      "                                   (scaled)                 (unscaled)\n",
      "Objective...............:  -1.2000000229976809e+01    1.2000000229976809e+01\n",
      "Dual infeasibility......:   2.5757174171303632e-14    2.5757174171303632e-14\n",
      "Constraint violation....:   0.0000000000000000e+00    0.0000000000000000e+00\n",
      "Variable bound violation:   0.0000000000000000e+00    0.0000000000000000e+00\n",
      "Complementarity.........:   2.5059030656870704e-09    2.5059030656870704e-09\n",
      "Overall NLP error.......:   2.5059030656870704e-09    2.5059030656870704e-09\n",
      "\n",
      "\n",
      "Number of objective function evaluations             = 11\n",
      "Number of objective gradient evaluations             = 11\n",
      "Number of equality constraint evaluations            = 0\n",
      "Number of inequality constraint evaluations          = 11\n",
      "Number of equality constraint Jacobian evaluations   = 0\n",
      "Number of inequality constraint Jacobian evaluations = 11\n",
      "Number of Lagrangian Hessian evaluations             = 10\n",
      "Total seconds in IPOPT                               = 0.015\n",
      "\n",
      "EXIT: Optimal Solution Found.\n",
      "Optimal solution for x: [1.0000000093735242, -1.0000000096867885, 1.0000000096867885, -1.0000000093735242]\n",
      "Maximum value of x' * S * x: 12.00000022997681\n",
      "Initial value of x' * S * x: 2.7674000000000003\n"
     ]
    }
   ],
   "source": [
    "using JuMP\n",
    "using Ipopt\n",
    "\n",
    "# Define the vector x and matrix S\n",
    "x_initial = [0.5, -0.23, 0.89, -0.1]  # Example initial guess for x\n",
    "S = [1.0 -1.0 0.0  0.0;\n",
    "    -1.0  2.0 -1.0 0.0;\n",
    "     0.0 -1.0  2.0 -1.0;\n",
    "     0.0  0.0  -1.0  1.0]  # Example symmetric matrix S\n",
    "\n",
    "# Define the dimension of the problem\n",
    "n = length(x_initial)\n",
    "epsilon = 1e-10\n",
    "\n",
    "# Define the optimization model\n",
    "model = Model(Ipopt.Optimizer)\n",
    "\n",
    "# Define the decision variables\n",
    "@variable(model, x[1:n])\n",
    "\n",
    "# Set initial guess for each variable\n",
    "for i in 1:n\n",
    "    set_start_value(x[i], x_initial[i])\n",
    "end\n",
    "\n",
    "# Objective: Maximize x' * S * x\n",
    "@objective(model, Max, sum(x[i] * S[i, j] * x[j] for i in 1:n, j in 1:n))\n",
    "\n",
    "# Constraint: Infinity norm of x should be less than or equal to 1\n",
    "@constraint(model, [i=1:n], x[i] <= 1)\n",
    "@constraint(model, [i=1:n], x[i] >= -1)\n",
    "\n",
    "# Additional constraint: The 1-norm of x must be greater than epsilon\n",
    "@constraint(model, sum(abs(x[i]) for i in 1:n) >= epsilon)\n",
    "\n",
    "# Set options (optional)\n",
    "set_optimizer_attribute(model, \"print_level\", 5)  # Increase print level for more solver output\n",
    "\n",
    "# Solve the optimization problem\n",
    "optimize!(model)\n",
    "\n",
    "# Retrieve and print the solution\n",
    "x_opt = value.(x)\n",
    "objective_value_opt = objective_value(model)\n",
    "\n",
    "println(\"Optimal solution for x: \", x_opt)\n",
    "println(\"Maximum value of x' * S * x: \", objective_value_opt)\n",
    "\n",
    "# Display initial value for comparison\n",
    "initial_value = x_initial' * S * x_initial\n",
    "println(\"Initial value of x' * S * x: \", initial_value)\n"
   ]
  },
  {
   "cell_type": "markdown",
   "id": "7418086c-a1ce-469d-8978-81edaef592ec",
   "metadata": {},
   "source": [
    "# O código acima foi utilizado para verificar o vetor que minimiza ou maximiza D(x). Os vetores da forma [a a a a] minimizam D(x) enquanto vetores do tipo [1 -1 1 -1] (respeitando a restrição de norma infinito menor que 1) maximizam D(x). O valor de D(v) será maior de acordo com a diversidade da população analisada - grupo com muitas similaridades geram vetores que se aproximam dos minimizadores de D(v) enquanto grupos com maiores variações dos parâmetros de pessoa para pessoa geram vetores que se aproxima dos maximizadores. Vale ressaltar que a ordenação dos elementos do grafo influencia na quantidade D(v), visto que ela mede as diferenças entre valores adjacentes. # "
   ]
  },
  {
   "cell_type": "code",
   "execution_count": null,
   "id": "87c3a8b0-8e0f-44a6-8789-20683df8eef6",
   "metadata": {},
   "outputs": [],
   "source": []
  }
 ],
 "metadata": {
  "kernelspec": {
   "display_name": "Julia 1.10.4",
   "language": "julia",
   "name": "julia-1.10"
  },
  "language_info": {
   "file_extension": ".jl",
   "mimetype": "application/julia",
   "name": "julia",
   "version": "1.10.4"
  }
 },
 "nbformat": 4,
 "nbformat_minor": 5
}
